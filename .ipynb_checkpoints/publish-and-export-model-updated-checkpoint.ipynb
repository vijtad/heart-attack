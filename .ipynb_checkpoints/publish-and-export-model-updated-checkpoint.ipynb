{
 "cells": [
  {
   "cell_type": "markdown",
   "id": "6afee751-9f7f-4882-98a3-cbf0a3500a49",
   "metadata": {},
   "source": [
    "## Publish Model API in Domino"
   ]
  },
  {
   "cell_type": "markdown",
   "id": "1f72da2a-478b-4894-82f0-4e1f5fd77ad0",
   "metadata": {},
   "source": [
    "#### Set up API"
   ]
  },
  {
   "cell_type": "code",
   "execution_count": null,
   "id": "19654b25-eda4-44a8-adf7-a31c593f03f4",
   "metadata": {
    "tags": []
   },
   "outputs": [],
   "source": [
    "#set up API\n",
    "import requests\n",
    "import json\n",
    "import os\n",
    "\n",
    "#set up API key and headers\n",
    "api_key = os.environ['DOMINO_USER_API_KEY']\n",
    "headers = {'X-Domino-Api-Key': api_key,  'Content-Type': 'application/json'}  \n",
    "\n",
    "#api host\n",
    "host = os.environ['DOMINO_API_HOST']"
   ]
  },
  {
   "cell_type": "code",
   "execution_count": null,
   "id": "78721b06-91a2-4e5a-9f71-11310a032b95",
   "metadata": {
    "tags": []
   },
   "outputs": [],
   "source": [
    "#get user id\n",
    "r_user = requests.get('{host}/v4/users/self'.format(host=host), headers=headers)\n",
    "user_id = r_user.json()['id']\n",
    "\n",
    "#get project id\n",
    "project_name = os.environ['DOMINO_PROJECT_NAME']\n",
    "url_project = '{host}/v4/projects?name={project_name}&ownerId={user_id}'.format(\n",
    "    host=host, project_name=project_name, user_id=user_id)\n",
    "r_project = requests.get(url_project, headers=headers)\n",
    "projectId = r_project.json()[0]['id']"
   ]
  },
  {
   "cell_type": "code",
   "execution_count": null,
   "id": "3da3f2f7-d659-4345-8b8b-42f70e0adc3c",
   "metadata": {
    "tags": []
   },
   "outputs": [],
   "source": [
    "#get default environment ID for the project\n",
    "env_url = '{host}/v4/projects/{projectId}/settings'.format(host=host, projectId=projectId)\n",
    "r_env = requests.get(env_url, headers=headers)\n",
    "env_id = r_env.json()['defaultEnvironmentId']\n",
    "\n",
    "# get environment name\n",
    "envname_url = '{host}/api/environments/v1/environments/{environmentId}'.format(host=host,environmentId=env_id)\n",
    "r_envname = requests.get(envname_url, headers=headers)\n",
    "#print(r_envname.json())\n",
    "envname = r_envname.json()['environment']['name']\n",
    "env_rev = r_envname.json()['environment']['selectedRevision']['number']\n",
    "print('Environment Name: {envname}, Revision: {env_rev}, Environment_ID: {env_id}'.format(envname=envname, \n",
    "                                                         env_rev=env_rev, env_id=env_id))"
   ]
  },
  {
   "cell_type": "markdown",
   "id": "b4698303-d0f5-4103-aeb7-96870b4c0357",
   "metadata": {},
   "source": [
    "#### Publish a model from a file and function"
   ]
  },
  {
   "cell_type": "code",
   "execution_count": null,
   "id": "62345064-a3ce-4386-9c9d-3c3a5e8329f0",
   "metadata": {
    "tags": []
   },
   "outputs": [],
   "source": [
    "#publish the model endpoint\n",
    "\n",
    "## make sure to fill out below info ##\n",
    "filename = '<>'\n",
    "function = '<>'\n",
    "model_name = '<>'\n",
    "model_desc = '<>'\n",
    "\n",
    "#Example: \n",
    "# filename = 'model.py'\n",
    "# function = 'my_model'\n",
    "# model_name = 'Example Published Model'\n",
    "# model_desc = 'This is a model published via our REST APIs from a file'\n",
    "\n",
    "publish_url = '{host}/v1/models'.format(host=host)\n",
    "\n",
    "details = {\n",
    "  \"projectId\": projectId,\n",
    "  \"file\": filename,\n",
    "  \"function\": function,\n",
    "  \"environmentId\": env_id,\n",
    "  \"name\": model_name,\n",
    "  \"description\": model_desc\n",
    "}\n",
    "\n",
    "r = requests.post(publish_url, headers=headers, json=details)\n",
    "r.json()"
   ]
  },
  {
   "cell_type": "markdown",
   "id": "dd054ed3-8e75-4fb1-bcdb-16f17fcd34bb",
   "metadata": {
    "tags": []
   },
   "source": [
    "#### Publish a model from the model registry"
   ]
  },
  {
   "cell_type": "code",
   "execution_count": null,
   "id": "20629915-91ec-44a2-b0d5-df80746f0f05",
   "metadata": {
    "tags": []
   },
   "outputs": [],
   "source": [
    "#list all registered models visible to you\n",
    "\n",
    "models_url = '{host}/api/registeredmodels/beta/names'.format(host=host)\n",
    "models_request = requests.get(models_url, headers=headers)\n",
    "models = models_request.json()\n",
    "models['items']"
   ]
  },
  {
   "cell_type": "markdown",
   "id": "774c7133-7be5-404d-992a-e0d37bbf920e",
   "metadata": {},
   "source": [
    "Be sure to set the name of the registered model:"
   ]
  },
  {
   "cell_type": "code",
   "execution_count": null,
   "id": "b2cd55af-aff2-4ef4-a6cb-5441c6e098e8",
   "metadata": {
    "tags": []
   },
   "outputs": [],
   "source": [
    "#Get the number of versions of a Registered Model\n",
    "registeredModelName = '<>'\n",
    "\n",
    "versions_request = requests.get('{host}/api/registeredmodels/beta/{modelName}/versions'.format(host=host, modelName=registeredModelName), headers=headers)\n",
    "version = versions_request.json()['items'][0]['modelVersion']\n",
    "print ('Model versions: ' + str(version))"
   ]
  },
  {
   "cell_type": "markdown",
   "id": "2dc1b4a2-7ccc-4f38-ad1a-220a62b87272",
   "metadata": {},
   "source": [
    "#### The next couple of cells list Model API IDs from a few different sources"
   ]
  },
  {
   "cell_type": "code",
   "execution_count": null,
   "id": "9c06eeab-2ca1-4824-9287-254edd5c1748",
   "metadata": {
    "tags": []
   },
   "outputs": [],
   "source": [
    "#Returns list of Model APIs deployed from a specific Registered Model\n",
    "\n",
    "#set name if not set above\n",
    "#registeredModelName = '<>'\n",
    "\n",
    "r_apis_from_model = requests.get('{host}/api/registeredmodels/beta/{modelName}/modelapis'.format(host=host, modelName=registeredModelName), headers=headers)\n",
    "\n",
    "for x in range(len(r_apis_from_model.json()['items'])):\n",
    "    print(r_apis_from_model.json()['items'][x]['id'])\n",
    "    print(r_apis_from_model.json()['items'][x]['name'])"
   ]
  },
  {
   "cell_type": "code",
   "execution_count": null,
   "id": "aa1e2022-de5d-4781-aa07-7e5470ac74bc",
   "metadata": {
    "tags": []
   },
   "outputs": [],
   "source": [
    "#Returns list of Model APIs deployed from a specific Registered Model Version\n",
    "\n",
    "#set name if not set above\n",
    "#registeredModelName = '<>'\n",
    "\n",
    "r_apis_from_version = requests.get('{host}/api/registeredmodels/beta/{modelName}/versions/{version}/modelapis'.format(host=host, modelName=registeredModelName,\n",
    "                                                                                                                      version=version), headers=headers)\n",
    "apis_from_version = r_apis_from_version.json()['items']\n",
    "apis_from_version"
   ]
  },
  {
   "cell_type": "markdown",
   "id": "d216dc76-8219-4143-b70e-44cad4401c5d",
   "metadata": {},
   "source": [
    "#### This publishes a new model API endpoint:"
   ]
  },
  {
   "cell_type": "code",
   "execution_count": null,
   "id": "ea197e9d-9878-43a3-a348-462f301fffba",
   "metadata": {
    "tags": []
   },
   "outputs": [],
   "source": [
    "#publish the model endpoint  - create a new model API endpoint\n",
    "\n",
    "## make sure to fill out below info ##\n",
    "#set name if not set above:\n",
    "#registeredModelName = '<>'\n",
    "registeredModelVersion = version #defaults to the latest version if you've used the cells above\n",
    "model_name = 'Example Published Model from Registry'\n",
    "model_desc = 'This is a model published via our REST APIs from the model registry'\n",
    "\n",
    "modelSource='Registry'\n",
    "publish_url = '{host}/v1/models'.format(host=host)\n",
    "\n",
    "details = {\n",
    "  \"projectId\": projectId,\n",
    "  \"environmentId\": env_id,\n",
    "  \"name\": model_name,\n",
    "  \"description\": model_desc,\n",
    "    \n",
    "  'modelSource': modelSource,\n",
    "  'registeredModelName': registeredModelName,\n",
    "  'registeredModelVersion':registeredModelVersion\n",
    "    }\n",
    "\n",
    "r = requests.post(publish_url, headers=headers, json=details)\n",
    "\n",
    "model_id = r.json()['data']['_id']\n",
    "r.json()"
   ]
  },
  {
   "cell_type": "markdown",
   "id": "9d807312-8514-4e6f-965c-0a046c594b98",
   "metadata": {},
   "source": [
    "#### This publishes a new model API endpoint version:\n",
    "\n",
    "You'll need to get the model ID from one of the above cells. It will default to the model_id in the above cell if you have published this"
   ]
  },
  {
   "cell_type": "code",
   "execution_count": null,
   "id": "c38d18a1-a5ef-4a7b-85ed-a6ee632e778f",
   "metadata": {
    "tags": []
   },
   "outputs": [],
   "source": [
    "#publish a new version of a model API\n",
    "\n",
    "## make sure to fill out below info ##\n",
    "#model_id = '<>'\n",
    "#registeredModelName = '<>' #defaults to the latest version if you've used the cells above\n",
    "registeredModelVersion = version\n",
    "model_name = 'Example Published Model from Registry'\n",
    "model_desc = 'This is a model published via our REST APIs from the model registry'\n",
    "\n",
    "modelSource='Registry'\n",
    "publish_url = '{host}/v1/models/{model_id}/versions'.format(host=host, model_id=model_id)\n",
    "\n",
    "details = {\n",
    "  \"projectId\": projectId,\n",
    "  \"environmentId\": env_id,\n",
    "  \"name\": model_name,\n",
    "  \"description\": model_desc,\n",
    "    \n",
    "  'modelSource': modelSource,\n",
    "  'registeredModelName': registeredModelName,\n",
    "  'registeredModelVersion':registeredModelVersion\n",
    "    }\n",
    "\n",
    "r = requests.post(publish_url, headers=headers, json=details)\n",
    "r.json()"
   ]
  },
  {
   "cell_type": "markdown",
   "id": "d830fc71-9884-415b-bd4b-aaeba6c7dff5",
   "metadata": {},
   "source": [
    "## Export Model API to External Registry"
   ]
  },
  {
   "cell_type": "markdown",
   "id": "cd1eae69-934f-480f-b8d3-3d382ff1542a",
   "metadata": {},
   "source": [
    "#### Set up API\n",
    "\n",
    "Make sure to store any passwords/tokens needed for the external repo as an [environment variable](https://docs.dominodatalab.com/en/latest/user_guide/15fccb/secure-credential-store/).\n",
    "You may need to restart the Workspace."
   ]
  },
  {
   "cell_type": "code",
   "execution_count": null,
   "id": "759782cd-f3fb-4b9a-9801-0f04c4d9d5f4",
   "metadata": {
    "tags": []
   },
   "outputs": [],
   "source": [
    "#list model API in the current project\n",
    "project_name = os.environ['DOMINO_PROJECT_NAME']\n",
    "username = os.environ['DOMINO_PROJECT_OWNER']\n",
    "modelapis_url = '{host}/v1/projects/{username}/{project_name}/models'.format(host=host, username=username,\n",
    "                                                                         project_name=project_name)\n",
    "modelapis_request = requests.get(modelapis_url, headers=headers)\n",
    "modelapis = modelapis_request.json()['data']\n",
    "print(modelapis)\n",
    "modelapis_id = modelapis[0]['id']\n",
    "print(modelapis_id)"
   ]
  },
  {
   "cell_type": "code",
   "execution_count": null,
   "id": "895cb5de-690a-49b7-aa03-bc2d43ce7386",
   "metadata": {
    "tags": []
   },
   "outputs": [],
   "source": [
    "#list versions of a chosen model API\n",
    "versions_url = '{host}/v1/models/{model_id}/versions'.format(host=host, model_id=modelapis_id)\n",
    "versions_request = requests.get(versions_url, headers=headers)\n",
    "versions = []\n",
    "\n",
    "for x in range(len(versions_request.json()['data'])):\n",
    "    versions.append(versions_request.json()['data'][x]['_id'])\n",
    "\n",
    "versions"
   ]
  },
  {
   "cell_type": "code",
   "execution_count": null,
   "id": "d896e681-fcc4-4f48-ba5b-16e9e8e45ffb",
   "metadata": {
    "tags": []
   },
   "outputs": [],
   "source": [
    "#set your model version ID - defaults to the first one\n",
    "modelVersionId = versions[0]\n",
    "modelVersionId"
   ]
  },
  {
   "cell_type": "markdown",
   "id": "a140fd50-aa68-45bd-94e4-e9dffb2737b5",
   "metadata": {},
   "source": [
    "#### Export Model"
   ]
  },
  {
   "cell_type": "code",
   "execution_count": null,
   "id": "b4f4887f-9f84-4119-a37b-d48c19a470bf",
   "metadata": {
    "tags": []
   },
   "outputs": [],
   "source": [
    "#export model\n",
    "export_url = '{host}/v4/models/{modelId}/{modelVersionId}/exportImageToRegistry'.format(host=host,\n",
    "                                                            modelId=modelapis_id, modelVersionId=modelVersionId)\n",
    "\n",
    "#set export parameters\n",
    "repo_password = os.environ['<password that you stored as an environment variable>']\n",
    "tag = '<tag>'\n",
    "values = {\"registryUrl\": \"<url>\", \"repository\": \"<username/reponame>\", \"password\": repo_password,\n",
    "          \"tag\": tag, \"username\": \"<username>\"}\n",
    "#example:\n",
    "# values = {\"registryUrl\": \"quay.io\", \"repository\": \"andrea_lowe/exported_model\", \"password\": repo_password,\n",
    "#           \"tag\": tag, \"username\": \"andrea_lowe\"}\n",
    "\n",
    "r = requests.post(export_url, headers=headers, json=values)\n",
    "r.json()"
   ]
  },
  {
   "cell_type": "code",
   "execution_count": null,
   "id": "a183a5f5-88d1-4307-8aa3-645ed774c0ba",
   "metadata": {
    "tags": []
   },
   "outputs": [],
   "source": [
    "exportId = r.json()['exportId']\n",
    "exportId"
   ]
  },
  {
   "cell_type": "code",
   "execution_count": null,
   "id": "a70af99a-37bf-44f9-8065-b25900d9ef97",
   "metadata": {
    "tags": []
   },
   "outputs": [],
   "source": [
    "#export status\n",
    "status_url = '{host}/v4/models/{exportId}/getExportImageStatus'.format(host=host,exportId=exportId)\n",
    "status_request = requests.get(status_url, headers=headers)\n",
    "status = status_request.json()\n",
    "status"
   ]
  }
 ],
 "metadata": {
  "dca-init": "true",
  "kernelspec": {
   "display_name": "Python 3 (ipykernel)",
   "language": "python",
   "name": "python3"
  },
  "language_info": {
   "codemirror_mode": {
    "name": "ipython",
    "version": 3
   },
   "file_extension": ".py",
   "mimetype": "text/x-python",
   "name": "python",
   "nbconvert_exporter": "python",
   "pygments_lexer": "ipython3",
   "version": "3.9.16"
  }
 },
 "nbformat": 4,
 "nbformat_minor": 5
}
