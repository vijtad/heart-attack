{
 "cells": [
  {
   "cell_type": "markdown",
   "id": "6afee751-9f7f-4882-98a3-cbf0a3500a49",
   "metadata": {},
   "source": [
    "### Publish Model API"
   ]
  },
  {
   "cell_type": "code",
   "execution_count": null,
   "id": "19654b25-eda4-44a8-adf7-a31c593f03f4",
   "metadata": {
    "tags": []
   },
   "outputs": [],
   "source": [
    "#set up API\n",
    "import requests\n",
    "import json\n",
    "import os\n",
    "\n",
    "#set up API key and headers\n",
    "api_key = os.environ['DOMINO_USER_API_KEY']\n",
    "headers = {'X-Domino-Api-Key': api_key,  'Content-Type': 'application/json'}  \n",
    "\n",
    "#api host\n",
    "host = os.environ['DOMINO_API_HOST']"
   ]
  },
  {
   "cell_type": "code",
   "execution_count": null,
   "id": "78721b06-91a2-4e5a-9f71-11310a032b95",
   "metadata": {
    "tags": []
   },
   "outputs": [],
   "source": [
    "#get user id\n",
    "url_user = '{host}/v4/users/self'.format(host=host)\n",
    "r_user = requests.get(url_user, headers=headers)\n",
    "user_id = r_user.json()['id']\n",
    "\n",
    "#get project id\n",
    "project_name = os.environ['DOMINO_PROJECT_NAME']\n",
    "url_project = '{host}/v4/projects?name={project_name}&ownerId={user_id}'.format(\n",
    "    host=host, project_name=project_name, user_id=user_id)\n",
    "r_project = requests.get(url_project, headers=headers)\n",
    "projectId = r_project.json()[0]['id']"
   ]
  },
  {
   "cell_type": "code",
   "execution_count": null,
   "id": "3da3f2f7-d659-4345-8b8b-42f70e0adc3c",
   "metadata": {
    "tags": []
   },
   "outputs": [],
   "source": [
    "#get default environment ID for the project\n",
    "env_url = '{host}/v4/projects/{projectId}/settings'.format(host=host, projectId=projectId)\n",
    "r_env = requests.get(env_url, headers=headers)\n",
    "env_id = r_env.json()['defaultEnvironmentId']\n",
    "env_id"
   ]
  },
  {
   "cell_type": "code",
   "execution_count": null,
   "id": "62345064-a3ce-4386-9c9d-3c3a5e8329f0",
   "metadata": {
    "tags": []
   },
   "outputs": [],
   "source": [
    "#publish the model endpoint\n",
    "\n",
    "## make sure to fill out below info ##\n",
    "filename = '<>'\n",
    "function = '<>'\n",
    "model_name = '<>'\n",
    "model_desc = '<>'\n",
    "\n",
    "publish_url = '{host}/v1/models'.format(host=host)\n",
    "\n",
    "details = {\n",
    "  \"projectId\": projectId,\n",
    "  \"file\": filename,\n",
    "  \"function\": function,\n",
    "  \"environmentId\": env_id,\n",
    "  \"name\": model_name,\n",
    "  \"description\": model_desc\n",
    "}\n",
    "\n",
    "r = requests.post(publish_url, headers=headers, json=details)\n",
    "r.json()"
   ]
  },
  {
   "cell_type": "markdown",
   "id": "d830fc71-9884-415b-bd4b-aaeba6c7dff5",
   "metadata": {},
   "source": [
    "## Export Model API to External Registry"
   ]
  },
  {
   "cell_type": "code",
   "execution_count": null,
   "id": "759782cd-f3fb-4b9a-9801-0f04c4d9d5f4",
   "metadata": {
    "tags": []
   },
   "outputs": [],
   "source": [
    "#list model API in the current project\n",
    "project_name = os.environ['DOMINO_PROJECT_NAME']\n",
    "username = os.environ['DOMINO_PROJECT_OWNER']\n",
    "modelapis_url = '{host}/v1/projects/{username}/{project_name}/models'.format(host=host, username=username,\n",
    "                                                                         project_name=project_name)\n",
    "modelapis_request = requests.get(modelapiss_url, headers=headers)\n",
    "modelapis = modelapis_request.json()['data']\n",
    "print(modelapis)\n",
    "modelapis_id = modelapis[0]['id']\n",
    "print(modelapis_id)"
   ]
  },
  {
   "cell_type": "code",
   "execution_count": null,
   "id": "895cb5de-690a-49b7-aa03-bc2d43ce7386",
   "metadata": {
    "tags": []
   },
   "outputs": [],
   "source": [
    "#list versions of a chosen model API\n",
    "versions_url = '{host}/v1/models/{model_id}/versions'.format(host=host, model_id=model_id)\n",
    "versions_request = requests.get(versions_url, headers=headers)\n",
    "versions = []\n",
    "\n",
    "for x in range(len(versions_request.json()['data'])):\n",
    "    versions.append(versions_request.json()['data'][x]['_id'])\n",
    "\n",
    "versions"
   ]
  },
  {
   "cell_type": "code",
   "execution_count": null,
   "id": "d896e681-fcc4-4f48-ba5b-16e9e8e45ffb",
   "metadata": {
    "tags": []
   },
   "outputs": [],
   "source": [
    "#set your model version ID - defaults to the first one\n",
    "modelVersionId = versions[0]\n",
    "modelVersionId"
   ]
  },
  {
   "cell_type": "code",
   "execution_count": null,
   "id": "b4f4887f-9f84-4119-a37b-d48c19a470bf",
   "metadata": {
    "tags": []
   },
   "outputs": [],
   "source": [
    "#export model\n",
    "export_url = '{host}/v4/models/{modelId}/{modelVersionId}/exportImageToRegistry'.format(host=host,\n",
    "                                                            modelId=model_id, modelVersionId=modelVersionId)\n",
    "\n",
    "#set export parameters\n",
    "#examples\n",
    "#      \"registryUrl\": \"quay.io\",\n",
    "#      \"repository\": \"andrea_lowe/exported_model\",\n",
    "#      \"password\": \"<your token/password>\",\n",
    "#      \"tag\": \"test\",\n",
    "#      \"username\": \"andrea_lowe\"\n",
    "\n",
    "repo_password = os.environ['<password that you stored as an environment variable>']\n",
    "tag = '<tag>'\n",
    "\n",
    "values = {\"registryUrl\": \"<url>\", \"repository\": \"<username/reponame>\", \"password\": repo_password,\n",
    "          \"tag\": tag, \"username\": \"<username>\"}\n",
    "\n",
    "r = requests.post(export_url, headers=headers, json=values)\n",
    "r.json()"
   ]
  },
  {
   "cell_type": "code",
   "execution_count": null,
   "id": "a183a5f5-88d1-4307-8aa3-645ed774c0ba",
   "metadata": {
    "tags": []
   },
   "outputs": [],
   "source": [
    "exportId = r.json()['exportId']\n",
    "exportId"
   ]
  },
  {
   "cell_type": "code",
   "execution_count": null,
   "id": "a70af99a-37bf-44f9-8065-b25900d9ef97",
   "metadata": {
    "tags": []
   },
   "outputs": [],
   "source": [
    "#export status\n",
    "status_url = '{host}/v4/models/{exportId}/getExportImageStatus'.format(host=host,exportId=exportId)\n",
    "status_request = requests.get(status_url, headers=headers)\n",
    "status = status_request.json()\n",
    "status"
   ]
  },
  {
   "cell_type": "markdown",
   "id": "4a2891e3-d134-4f38-a917-a2d37cf63585",
   "metadata": {},
   "source": [
    "## API example for using Model Registry"
   ]
  },
  {
   "cell_type": "code",
   "execution_count": null,
   "id": "a915754c-35dc-45ca-91f9-13e7cfecd661",
   "metadata": {
    "tags": []
   },
   "outputs": [],
   "source": [
    "#list all registered models visible to you\n",
    "\n",
    "models_url = '{host}/api/registeredmodels/beta/names'.format(host=host)\n",
    "models_request = requests.get(models_url, headers=headers)\n",
    "models = models_request.json()\n",
    "models"
   ]
  },
  {
   "cell_type": "code",
   "execution_count": null,
   "id": "00d214a4-99eb-4e74-b690-5be8b06518d5",
   "metadata": {},
   "outputs": [],
   "source": []
  }
 ],
 "metadata": {
  "dca-init": "true",
  "kernelspec": {
   "display_name": "Python 3 (ipykernel)",
   "language": "python",
   "name": "python3"
  },
  "language_info": {
   "codemirror_mode": {
    "name": "ipython",
    "version": 3
   },
   "file_extension": ".py",
   "mimetype": "text/x-python",
   "name": "python",
   "nbconvert_exporter": "python",
   "pygments_lexer": "ipython3",
   "version": "3.9.16"
  }
 },
 "nbformat": 4,
 "nbformat_minor": 5
}
