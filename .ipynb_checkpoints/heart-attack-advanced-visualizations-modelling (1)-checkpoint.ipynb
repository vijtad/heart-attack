{
 "cells": [
  {
   "cell_type": "markdown",
   "metadata": {},
   "source": [
    "# Introduction"
   ]
  },
  {
   "cell_type": "markdown",
   "metadata": {},
   "source": [
    "Hello everyone, this is my take on the **Heart Attack Analysis and Prediction** dataset in which I've made some interesting and insighful visualizations and I've also tried a few machine learning models to predict whether a person is likely to have a heart attack or not."
   ]
  },
  {
   "cell_type": "markdown",
   "metadata": {},
   "source": [
    "### Note"
   ]
  },
  {
   "cell_type": "markdown",
   "metadata": {},
   "source": [
    "If you find it helpful and intuitive, then feel free to upvote the notebook. If there's anything I can improve on then do comment down below, your opinions and suggestions are valuable to me! Thank you! :)"
   ]
  },
  {
   "cell_type": "markdown",
   "metadata": {},
   "source": [
    "### Feature Description"
   ]
  },
  {
   "cell_type": "markdown",
   "metadata": {},
   "source": [
    "The following are the description of each feature:\n",
    "\n",
    "    1. age - age in years\n",
    "    \n",
    "    2. sex - sex ( 0 = female; 1 = male)\n",
    "    \n",
    "    3. cp - chest pain type (0 = asymptomatic; 1 = typical angina; 2 = atypical angina; 3 = non-anginal pain;)\n",
    "    \n",
    "    4. trestbps - resting blood pressure (in mm Hg on admission to the hospital)\n",
    "    \n",
    "    5. chol - serum cholestoral in mg/dl\n",
    "    \n",
    "    6. fbs - fasting blood sugar > 120 mg/dl (1 = true; 0 = false)\n",
    "    \n",
    "    7. restecg - resting electrocardiographic results (0 = hypertrophy ;1 = normal; 2 = having ST-T wave abnormality)\n",
    "    \n",
    "    8. thalach - maximum heart rate achieved\n",
    "    \n",
    "    9. exang - exercise induced angina (1 = yes; 0 = no)\n",
    "    \n",
    "    10. oldpeak - ST depression induced by exercise relative to rest\n",
    "    \n",
    "    11. slope - the slope of the peak exercise ST segment (0 = downsloping; 1 = flat; 2 = upsloping)\n",
    "    \n",
    "    12. ca - number of major vessels (0-3) colored by fluoroscopy\n",
    "    \n",
    "    13. thal - 1 = fixed defect; 2 = normal; 3 = reversible defect\n",
    "    \n",
    "    14. num - the predicted attribute - diagnosis of heart disease (angiographic disease status) (Value 0 = < diameter narrowing; Value 1 = > 50% diameter narrowing)\n"
   ]
  },
  {
   "cell_type": "markdown",
   "metadata": {},
   "source": [
    "***"
   ]
  },
  {
   "cell_type": "markdown",
   "metadata": {},
   "source": [
    "# Importing libraries"
   ]
  },
  {
   "cell_type": "code",
   "execution_count": null,
   "metadata": {
    "execution": {
     "iopub.execute_input": "2021-05-30T09:02:35.200216Z",
     "iopub.status.busy": "2021-05-30T09:02:35.199849Z",
     "iopub.status.idle": "2021-05-30T09:02:35.215687Z",
     "shell.execute_reply": "2021-05-30T09:02:35.214535Z",
     "shell.execute_reply.started": "2021-05-30T09:02:35.200178Z"
    }
   },
   "outputs": [],
   "source": [
    "import pandas as pd\n",
    "import numpy as np\n",
    "\n",
    "# For visualizations\n",
    "import matplotlib.pyplot as plt\n",
    "import seaborn as sns\n",
    "from matplotlib.lines import Line2D\n",
    "\n",
    "# For feature selection\n",
    "from sklearn.feature_selection import mutual_info_classif\n",
    "from scipy import stats\n",
    "from sklearn.feature_selection import SelectKBest\n",
    "from sklearn.feature_selection import chi2\n",
    "\n",
    "# For model selection, modelling and testing\n",
    "\n",
    "from sklearn.model_selection import train_test_split\n",
    "from sklearn.preprocessing import StandardScaler\n",
    "\n",
    "from sklearn.linear_model import LogisticRegression,RidgeClassifier,SGDClassifier,PassiveAggressiveClassifier\n",
    "from sklearn.linear_model import Perceptron\n",
    "from sklearn.svm import SVC,LinearSVC,NuSVC\n",
    "from sklearn.neighbors import KNeighborsClassifier,NearestCentroid\n",
    "from sklearn.tree import DecisionTreeClassifier\n",
    "from sklearn.ensemble import RandomForestClassifier,AdaBoostClassifier,GradientBoostingClassifier\n",
    "from sklearn.naive_bayes import GaussianNB,BernoulliNB\n",
    "\n",
    "from sklearn.metrics import precision_score,accuracy_score\n",
    "from sklearn.model_selection import RandomizedSearchCV,GridSearchCV,RepeatedStratifiedKFold\n",
    "from sklearn.ensemble import VotingClassifier\n",
    "\n",
    "import os\n",
    "for dirname, _, filenames in os.walk('/kaggle/input'):\n",
    "    for filename in filenames:\n",
    "        print(os.path.join(dirname, filename))\n",
    "        \n",
    "from warnings import filterwarnings"
   ]
  },
  {
   "cell_type": "markdown",
   "metadata": {},
   "source": [
    "***"
   ]
  },
  {
   "cell_type": "markdown",
   "metadata": {},
   "source": [
    "# Loading the dataset"
   ]
  },
  {
   "cell_type": "code",
   "execution_count": null,
   "metadata": {
    "execution": {
     "iopub.execute_input": "2021-05-30T09:02:36.417643Z",
     "iopub.status.busy": "2021-05-30T09:02:36.417234Z",
     "iopub.status.idle": "2021-05-30T09:02:36.422516Z",
     "shell.execute_reply": "2021-05-30T09:02:36.421204Z",
     "shell.execute_reply.started": "2021-05-30T09:02:36.417605Z"
    }
   },
   "outputs": [],
   "source": [
    "index=['age', 'sex', 'cp', 'trestbps', 'chol', 'fbs', 'restecg', 'thalach',\n",
    "       'exang', 'oldpeak', 'slope', 'ca', 'thal', 'target']"
   ]
  },
  {
   "cell_type": "code",
   "execution_count": null,
   "metadata": {
    "execution": {
     "iopub.execute_input": "2021-05-30T09:02:37.272369Z",
     "iopub.status.busy": "2021-05-30T09:02:37.271960Z",
     "iopub.status.idle": "2021-05-30T09:02:37.287227Z",
     "shell.execute_reply": "2021-05-30T09:02:37.286056Z",
     "shell.execute_reply.started": "2021-05-30T09:02:37.272327Z"
    }
   },
   "outputs": [],
   "source": [
    "df=pd.read_csv('../input/heart-attack-analysis-prediction-dataset/heart.csv',names=index,header=0)"
   ]
  },
  {
   "cell_type": "code",
   "execution_count": null,
   "metadata": {
    "execution": {
     "iopub.execute_input": "2021-05-30T09:02:38.107858Z",
     "iopub.status.busy": "2021-05-30T09:02:38.107464Z",
     "iopub.status.idle": "2021-05-30T09:02:38.145203Z",
     "shell.execute_reply": "2021-05-30T09:02:38.144234Z",
     "shell.execute_reply.started": "2021-05-30T09:02:38.107826Z"
    }
   },
   "outputs": [],
   "source": [
    "df"
   ]
  },
  {
   "cell_type": "code",
   "execution_count": null,
   "metadata": {
    "execution": {
     "iopub.execute_input": "2021-05-30T09:02:38.427569Z",
     "iopub.status.busy": "2021-05-30T09:02:38.427151Z",
     "iopub.status.idle": "2021-05-30T09:02:38.451767Z",
     "shell.execute_reply": "2021-05-30T09:02:38.450653Z",
     "shell.execute_reply.started": "2021-05-30T09:02:38.427530Z"
    }
   },
   "outputs": [],
   "source": [
    "df.info()"
   ]
  },
  {
   "cell_type": "markdown",
   "metadata": {},
   "source": [
    "***"
   ]
  },
  {
   "cell_type": "markdown",
   "metadata": {},
   "source": [
    "# Colors"
   ]
  },
  {
   "cell_type": "code",
   "execution_count": null,
   "metadata": {
    "_kg_hide-input": true,
    "execution": {
     "iopub.execute_input": "2021-05-30T09:02:40.008991Z",
     "iopub.status.busy": "2021-05-30T09:02:40.008584Z",
     "iopub.status.idle": "2021-05-30T09:02:40.402881Z",
     "shell.execute_reply": "2021-05-30T09:02:40.401780Z",
     "shell.execute_reply.started": "2021-05-30T09:02:40.008951Z"
    }
   },
   "outputs": [],
   "source": [
    "colors_blue = [\"#132C33\", \"#264D58\", '#17869E', '#51C4D3', '#B4DBE9']\n",
    "colors_dark = [\"#1F1F1F\", \"#313131\", '#636363', '#AEAEAE', '#DADADA']\n",
    "colors_red = [\"#331313\", \"#582626\", '#9E1717', '#D35151', '#E9B4B4']\n",
    "colors_mix = [\"#17869E\", '#264D58', '#179E66', '#D35151', '#E9DAB4', '#E9B4B4', '#D3B651', '#6351D3']\n",
    "sns.palplot(colors_blue)\n",
    "sns.palplot(colors_red)\n",
    "sns.palplot(colors_dark)\n",
    "sns.palplot(colors_mix)"
   ]
  },
  {
   "cell_type": "markdown",
   "metadata": {},
   "source": [
    "***"
   ]
  },
  {
   "cell_type": "markdown",
   "metadata": {},
   "source": [
    "# EDA"
   ]
  },
  {
   "cell_type": "markdown",
   "metadata": {},
   "source": [
    "I tried to explore the data with the help of visualizations to find some interesting insights about it which could be useful for the model."
   ]
  },
  {
   "cell_type": "code",
   "execution_count": null,
   "metadata": {
    "_kg_hide-input": true,
    "execution": {
     "iopub.execute_input": "2021-05-30T09:02:41.467774Z",
     "iopub.status.busy": "2021-05-30T09:02:41.467397Z",
     "iopub.status.idle": "2021-05-30T09:02:41.473586Z",
     "shell.execute_reply": "2021-05-30T09:02:41.472501Z",
     "shell.execute_reply.started": "2021-05-30T09:02:41.467744Z"
    }
   },
   "outputs": [],
   "source": [
    "def grouping(age):\n",
    "    if age>=18 and age<=30:\n",
    "        return 0\n",
    "    elif age>=31 and age<=40:\n",
    "        return 1\n",
    "    elif age>=41 and age<=50:\n",
    "        return 2\n",
    "    elif age>=51 and age<=60:\n",
    "        return 3\n",
    "    else:\n",
    "        return 4"
   ]
  },
  {
   "cell_type": "code",
   "execution_count": null,
   "metadata": {
    "_kg_hide-input": true,
    "execution": {
     "iopub.execute_input": "2021-05-30T09:02:41.800938Z",
     "iopub.status.busy": "2021-05-30T09:02:41.800583Z",
     "iopub.status.idle": "2021-05-30T09:02:42.699672Z",
     "shell.execute_reply": "2021-05-30T09:02:42.698504Z",
     "shell.execute_reply.started": "2021-05-30T09:02:41.800908Z"
    }
   },
   "outputs": [],
   "source": [
    "age_int = df['age'].apply(grouping).value_counts(sort=False)\n",
    "\n",
    "labels=['18-30','31-40','41-50','51-60','>61']\n",
    "\n",
    "\n",
    "# Pie Charts\n",
    "\n",
    "fig,ax = plt.subplots(1,2,figsize=(14,16))\n",
    "\n",
    "fig.text(s='Sex vs. Age plots',size=24,fontweight='bold',fontname='monospace',\n",
    "             color=colors_dark[1],y=0.73,x=0.43,alpha=0.8)\n",
    "\n",
    "# Pie Chart - Left\n",
    "\n",
    "ax[0].pie(df['sex'].value_counts(),autopct='{:.1f}%'.format,\n",
    "          colors=[colors_blue[3],colors_red[3]],wedgeprops={'width':0.5,'alpha':0.7},\n",
    "          pctdistance=1.15,startangle=80,radius=1.1,textprops={'fontsize': 10, 'color': colors_dark[2],\n",
    "                                                               'fontweight': 'bold'})\n",
    "\n",
    "ax[0].legend(['Male','Female'],frameon=False,ncol=2,columnspacing=15,loc='upper right')\n",
    "\n",
    "ax[0].text(s='We can see that the majority of the\\n patients in the dataset are Male',\n",
    "               fontdict={'color':colors_dark[3],'size':13,'fontweight':'bold','fontname':'monospace',\n",
    "                         },x=-0.85,y=1.5)\n",
    "\n",
    "ax[0].text(s='Sex',fontdict={'color':colors_dark[3],'size':18,'fontweight':'semibold','fontname':'monospace'}\n",
    "           ,x=-0.12,y=-0.05)\n",
    "\n",
    "#Pie Chart - Right\n",
    "\n",
    "ax[1].pie(age_int,autopct='{:.2f}%'.format,colors=colors_mix,wedgeprops={'width':0.5,'alpha':0.7},\n",
    "          pctdistance=1.18,radius=1.1,textprops={'fontsize': 10, 'color': colors_dark[2],'fontweight': 'bold'},\n",
    "         counterclock=False)\n",
    "\n",
    "ax[1].legend(labels,frameon=False,bbox_to_anchor=(1.38,0.9),labelspacing=3,title='Age Interval')\n",
    "\n",
    "ax[1].text(s='Dataset involved majority of people aged >40\\nThere was a very low percentage of patients aged <30',\n",
    "               fontdict={'color':colors_dark[3],'size':13,'fontweight':'bold','fontname':'monospace',\n",
    "                         },x=-1.3,y=1.5)\n",
    "\n",
    "ax[1].text(s='Age',fontdict={'color':colors_dark[3],'size':18,'fontweight':'semibold','fontname':'monospace'}\n",
    "           ,x=-0.12,y=-0.05)\n",
    "\n",
    "\n",
    "fig.subplots_adjust(wspace=0.55)\n",
    "\n",
    "# Histograms with KDE\n",
    "\n",
    "fig,ax = plt.subplots(1,2,figsize=(14,6),sharey=False)\n",
    "\n",
    "# Left Hist\n",
    "\n",
    "sns.histplot(df[df['sex']==1]['age'],ax=ax[0],bins=30,alpha=0.4,color=colors_blue[2],\n",
    "             element='step',kde=True,line_kws={'ls':'--'})\n",
    "ax[0].set_xlim(20,80)\n",
    "ax[0].set_ylim(0,30)\n",
    "ax[0].invert_xaxis()\n",
    "ax[0].spines['top'].set_color(None)\n",
    "ax[0].spines['left'].set_color(None)\n",
    "ax[0].yaxis.tick_right()\n",
    "ax[0].set_ylabel(None)\n",
    "ax[0].set_yticks([])\n",
    "ax[0].set_xlabel('Age')\n",
    "ax[0].legend(['Male'],loc='upper left',frameon=False)\n",
    "ax[0].axhline(y=26,xmin=1,xmax=1-(39/60),ls='--')\n",
    "\n",
    "ax[0].set_title('Most Male patients\\naged between 57-59',y=0.88,x=0.65,\n",
    "                fontdict={'color':colors_dark[3],'size':12,'fontweight':'bold','fontname':'monospace'})\n",
    "\n",
    "# Right Hist\n",
    "\n",
    "sns.histplot(df[df['sex']==0]['age'],ax=ax[1],bins=30,alpha=0.4,color=colors_red[3],\n",
    "             element='step',kde=True,line_kws={'ls':'--'})\n",
    "ax[1].set_xlim(20,80)\n",
    "ax[1].set_ylim(0,30)\n",
    "ax[1].spines['top'].set_color(None)\n",
    "ax[1].spines['right'].set_color(None)\n",
    "ax[1].set_ylabel(None)\n",
    "ax[1].set_yticks([1,5,10,15,20,25,30])\n",
    "ax[1].set_xlabel('Age')\n",
    "ax[1].legend(['Female'],loc='upper right',frameon=False)\n",
    "ax[1].axhline(y=12,xmin=0,xmax=43/60,ls='--',color=colors_red[3])\n",
    "\n",
    "ax[1].set_title('Most Female patients\\naged between 54-62',y=0.42,x=0.3,\n",
    "                fontdict={'color':colors_dark[3],'size':12,'fontweight':'bold','fontname':'monospace'})\n",
    "fig.subplots_adjust(wspace=0)\n",
    "\n",
    "fig.text(s='Distribution of age among the patients - Male vs. Female',size=14,fontweight='bold',\n",
    "             fontname='monospace',color=colors_dark[1],y=0,x=0.28,alpha=0.8)\n",
    "\n",
    "plt.show()"
   ]
  },
  {
   "cell_type": "markdown",
   "metadata": {},
   "source": [
    "\n",
    "## Some Data Cleaning"
   ]
  },
  {
   "cell_type": "markdown",
   "metadata": {},
   "source": [
    "Before doing any further analysis on the data, we should first correct the incorrect data within some columns:"
   ]
  },
  {
   "cell_type": "markdown",
   "metadata": {},
   "source": [
    "The values of **thal** lies between 1-3 but in the dataset, there's also a value 0 in 2 rows."
   ]
  },
  {
   "cell_type": "markdown",
   "metadata": {},
   "source": [
    "So we'll replace them with the most frequent value in the thal column"
   ]
  },
  {
   "cell_type": "code",
   "execution_count": null,
   "metadata": {
    "execution": {
     "iopub.execute_input": "2021-05-30T09:02:43.197741Z",
     "iopub.status.busy": "2021-05-30T09:02:43.197327Z",
     "iopub.status.idle": "2021-05-30T09:02:43.204746Z",
     "shell.execute_reply": "2021-05-30T09:02:43.203752Z",
     "shell.execute_reply.started": "2021-05-30T09:02:43.197704Z"
    }
   },
   "outputs": [],
   "source": [
    "df['thal']=df['thal'].apply(lambda x: int(df['thal'].mode()) if (x==0) else int(x))"
   ]
  },
  {
   "cell_type": "code",
   "execution_count": null,
   "metadata": {
    "execution": {
     "iopub.execute_input": "2021-05-30T09:02:43.408406Z",
     "iopub.status.busy": "2021-05-30T09:02:43.408015Z",
     "iopub.status.idle": "2021-05-30T09:02:43.416356Z",
     "shell.execute_reply": "2021-05-30T09:02:43.415561Z",
     "shell.execute_reply.started": "2021-05-30T09:02:43.408367Z"
    }
   },
   "outputs": [],
   "source": [
    "df['thal'].value_counts()"
   ]
  },
  {
   "cell_type": "markdown",
   "metadata": {},
   "source": [
    "Also, the values in the **ca** feature should range between 0-3 but it also contains other value, 4 which indicated null values."
   ]
  },
  {
   "cell_type": "markdown",
   "metadata": {},
   "source": [
    "Instead of imputing the values, I'll be removing these rows from the dataset"
   ]
  },
  {
   "cell_type": "code",
   "execution_count": null,
   "metadata": {
    "execution": {
     "iopub.execute_input": "2021-05-30T09:02:44.455765Z",
     "iopub.status.busy": "2021-05-30T09:02:44.455179Z",
     "iopub.status.idle": "2021-05-30T09:02:44.462194Z",
     "shell.execute_reply": "2021-05-30T09:02:44.460982Z",
     "shell.execute_reply.started": "2021-05-30T09:02:44.455711Z"
    }
   },
   "outputs": [],
   "source": [
    "df.drop(df[df['ca']==4].index,inplace=True)"
   ]
  },
  {
   "cell_type": "code",
   "execution_count": null,
   "metadata": {
    "execution": {
     "iopub.execute_input": "2021-05-30T09:02:44.668663Z",
     "iopub.status.busy": "2021-05-30T09:02:44.668083Z",
     "iopub.status.idle": "2021-05-30T09:02:44.677024Z",
     "shell.execute_reply": "2021-05-30T09:02:44.676036Z",
     "shell.execute_reply.started": "2021-05-30T09:02:44.668622Z"
    }
   },
   "outputs": [],
   "source": [
    "df['ca'].value_counts()"
   ]
  },
  {
   "cell_type": "code",
   "execution_count": null,
   "metadata": {
    "execution": {
     "iopub.execute_input": "2021-05-30T09:02:44.884622Z",
     "iopub.status.busy": "2021-05-30T09:02:44.884212Z",
     "iopub.status.idle": "2021-05-30T09:02:44.892403Z",
     "shell.execute_reply": "2021-05-30T09:02:44.891196Z",
     "shell.execute_reply.started": "2021-05-30T09:02:44.884587Z"
    }
   },
   "outputs": [],
   "source": [
    "df.reset_index(drop=True,inplace=True)"
   ]
  },
  {
   "cell_type": "code",
   "execution_count": null,
   "metadata": {
    "_kg_hide-input": true,
    "execution": {
     "iopub.execute_input": "2021-05-30T09:02:45.108526Z",
     "iopub.status.busy": "2021-05-30T09:02:45.108130Z",
     "iopub.status.idle": "2021-05-30T09:02:46.118922Z",
     "shell.execute_reply": "2021-05-30T09:02:46.117710Z",
     "shell.execute_reply.started": "2021-05-30T09:02:45.108492Z"
    }
   },
   "outputs": [],
   "source": [
    "l = ['sex','cp','fbs','restecg','exang','slope','ca','thal']\n",
    "c = [colors_red[3],colors_dark[4],colors_dark[3],colors_dark[2]]\n",
    "lab = [['Male','Female'],\n",
    "       ['Asymptomatic','Atypical Angina','Typical Angina','Non-Anginal Pain'],\n",
    "       ['<120 mg/dl','>120 mg/dl'],\n",
    "       ['Normal','Hypertrophy','ST-T Wave Abnormality'],\n",
    "       ['No','Yes'],\n",
    "       ['Upsloping','Flat','Downsloping'],\n",
    "       ['0','1','2','3'],\n",
    "       ['Normal','Reversible Defect','Fixed Defect']\n",
    "      ]\n",
    "title = ['Sex','Chest Pain','Fasting Sugar Level','Resting Electrocardiographic Results','Exercise Induced Angina',\n",
    "        'Slope','No. Of Vessels Colored By Fluoroscopy','Thalium Stress Test Result']\n",
    "\n",
    "fig,ax = plt.subplots(2,4,figsize=(16,12))\n",
    "\n",
    "fig.text(s='Categorical Feature\\'s Pie Charts',size=22,fontweight='bold',\n",
    "             fontname='monospace',color=colors_dark[1],y=0.99,x=0.33,alpha=0.8)\n",
    "\n",
    "for i in range(0,8):\n",
    "        ax[i//4,i%4].pie(df[l[i]].value_counts(),autopct='{:.1f}%'.format,counterclock=False,\n",
    "          colors=c,wedgeprops={'width':0.5,'alpha':0.7},pctdistance=1.27,startangle=80,radius=1.1,\n",
    "                         textprops={'fontsize': 10, 'color': colors_dark[2],'fontweight': 'bold'})\n",
    "        ax[i//4,i%4].legend(lab[i],loc='lower center',bbox_to_anchor=(0.6,-0.55),frameon=False,\n",
    "                            labelspacing=0.8,fontsize=11)\n",
    "        \n",
    "fig.text(s='Sex',size=12,fontweight='bold',fontname='monospace',\n",
    "         color=colors_dark[2],y=0.88,x=0.19,alpha=0.8)        \n",
    "fig.text(s='Chest Pain',size=12,fontweight='bold',fontname='monospace',\n",
    "         color=colors_dark[2],y=0.90,x=0.37,alpha=0.8)        \n",
    "fig.text(s='Fasting Blood\\nSugar',size=12,fontweight='bold',fontname='monospace',\n",
    "         color=colors_dark[2],y=0.90,x=0.62,alpha=0.8,ha='center')\n",
    "fig.text(s='Resting ECG\\nResults',size=12,fontweight='bold',fontname='monospace',\n",
    "         color=colors_dark[2],y=0.90,x=0.83,alpha=0.8,ha='center')\n",
    "\n",
    "fig.text(s='Exercise\\nInduced\\nAngina',size=12,fontweight='bold',fontname='monospace',\n",
    "         color=colors_dark[2],y=0.38,x=0.2,alpha=0.8,ha='center')\n",
    "fig.text(s='Slope of the\\n peak exercise\\n ST Segment',size=12,fontweight='bold',fontname='monospace',\n",
    "         color=colors_dark[2],y=0.4,x=0.41,alpha=0.8,ha='center')\n",
    "fig.text(s='No. Of Vessels\\n Colored After\\nFluoroscopy',size=12,fontweight='bold',fontname='monospace',\n",
    "         color=colors_dark[2],y=0.4,x=0.62,alpha=0.8,ha='center')\n",
    "fig.text(s='Thalium Stress\\nTest Result',size=12,fontweight='bold',fontname='monospace',\n",
    "         color=colors_dark[2],y=0.4,x=0.82,alpha=0.8,ha='center')\n",
    "\n",
    "fig.subplots_adjust(wspace=0.35,hspace=1)"
   ]
  },
  {
   "cell_type": "code",
   "execution_count": null,
   "metadata": {
    "_kg_hide-input": true,
    "execution": {
     "iopub.execute_input": "2021-05-30T09:02:46.121182Z",
     "iopub.status.busy": "2021-05-30T09:02:46.120792Z",
     "iopub.status.idle": "2021-05-30T09:02:46.790243Z",
     "shell.execute_reply": "2021-05-30T09:02:46.789056Z",
     "shell.execute_reply.started": "2021-05-30T09:02:46.121144Z"
    }
   },
   "outputs": [],
   "source": [
    "filterwarnings('ignore')\n",
    "\n",
    "mean_0 = df[df['target']==0]['chol'].mean()\n",
    "mean_1 = df[df['target']==1]['chol'].mean()\n",
    "\n",
    "custom_lines = [Line2D([0], [0], marker='o', color=colors_blue[3], markerfacecolor=colors_blue[2],ls='--',\n",
    "                       alpha=0.7),\n",
    "                Line2D([0], [0], marker='o', color=colors_red[3], markerfacecolor=colors_red[2],ls='--',\n",
    "                       alpha=0.7)]\n",
    "\n",
    "fig,ax = plt.subplots(1,2,figsize=(20,10),sharey=False)\n",
    "\n",
    "fig.text(s='Serum Cholestrol Level Distribution',size=24,fontweight='bold',\n",
    "             fontname='monospace',color=colors_dark[1],y=1,x=0.33,alpha=0.8)\n",
    "\n",
    "\n",
    "# Left Line Plot\n",
    "\n",
    "ax[0].plot(df[df['target']==0]['chol'],marker='o',lw=0.8,ls='--',alpha=0.7,color=colors_blue[3],\n",
    "            markerfacecolor=colors_blue[2],markersize=5)\n",
    "ax[0].hlines(mean_0,xmin=165,xmax=400,ls='--',color=colors_dark[2])\n",
    "ax[0].invert_xaxis()\n",
    "ax[0].spines['top'].set_color(None)\n",
    "ax[0].spines['left'].set_color(None)\n",
    "ax[0].set_ylim(120,570)\n",
    "ax[0].set_xticks([])\n",
    "ax[0].set_xlim(305,150)\n",
    "ax[0].yaxis.tick_right()\n",
    "ax[0].spines['bottom'].set_color(None)\n",
    "fig.text(s='Average\\nCholesterol\\nLevel: {:.2f}'.format(mean_0),x=0.042,y=0.32,color='white',\n",
    "         backgroundcolor=colors_dark[2],fontsize=14,weight='bold')\n",
    "\n",
    "\n",
    "# Right Line Plot\n",
    "\n",
    "ax[1].plot(df[df['target']==1]['chol'],marker='o',lw=0.8,ls='--',alpha=0.7,color=colors_red[3],\n",
    "          markerfacecolor=colors_red[2],markersize=5)\n",
    "ax[1].hlines(mean_1,xmin=0,xmax=170,ls='--',color=colors_dark[2])\n",
    "ax[1].spines['top'].set_color(None)\n",
    "ax[1].spines['right'].set_color(None)\n",
    "ax[1].spines['bottom'].set_color(None)\n",
    "ax[1].set_ylim(120,570)\n",
    "ax[1].set_xticks([])\n",
    "ax[1].tick_params(axis='y', which='major', labelsize=13)\n",
    "ax[1].set_title('',y=0.42,x=0.3,\n",
    "                fontdict={'color':colors_dark[3],'size':12,'fontweight':'bold','fontname':'monospace'})\n",
    "fig.text(s='Average\\nCholesterol\\nLevel: {:.2f}'.format(mean_1),x=0.89,y=0.31,color='white',\n",
    "         backgroundcolor=colors_dark[2],fontsize=14,weight='bold')\n",
    "\n",
    "fig.text(s='(mg/dl)',x=0.51,y=0.905,fontdict={'color':'black','size':12,'ha':'center'})\n",
    "\n",
    "\n",
    "fig2,ax = plt.subplots(1,2,figsize=(15,5),sharey=False)\n",
    "sns.despine(fig2)\n",
    "\n",
    "# Left KDE Plot\n",
    "\n",
    "df[df['target']==0]['chol'].plot.kde(ls='--',color=colors_blue[2],ax=ax[0])\n",
    "ax[0].spines['left'].set_color(None)\n",
    "ax[0].set_ylabel(None)\n",
    "ax[0].set_yticks([])\n",
    "ax[0].set_xlabel('Serum Cholestrol Level (mg/dl)',fontsize=12)\n",
    "line = ax[0].get_lines()[-1]\n",
    "x, y = line.get_data()\n",
    "mask1 = x > 200\n",
    "mask2 = x>=240\n",
    "x1, y1 = x[mask1], y[mask1]\n",
    "x2,y2 = x[mask2],y[mask2]\n",
    "ax[0].fill_between(x1, y1, alpha=0.5, facecolor=colors_blue[3])\n",
    "ax[0].fill_between(x2, y2, alpha=0.5, facecolor=colors_blue[2])\n",
    "ax[0].hlines(0.0018,xmin=300,xmax=510,ls='-.',color=colors_dark[2],lw=0.8)\n",
    "ax[0].hlines(0.005,xmin=225,xmax=500,ls='-.',color=colors_dark[2],lw=0.8)\n",
    "\n",
    "# Right KDE Plot\n",
    "\n",
    "df[df['target']==1]['chol'].plot.kde(ls='--',color=colors_red[3],ax=ax[1])\n",
    "ax[1].spines['left'].set_color(None)\n",
    "ax[1].set_ylabel(None)\n",
    "ax[1].set_yticks([])\n",
    "fig2.text(s='',\n",
    "          x=0.55,y=0.65,\n",
    "         fontdict={'color':colors_dark[3],'size':14,'fontweight':'semibold','fontname':'monospace','ha':'center'})\n",
    "ax[1].set_xlabel('Serum Cholestrol Level (mg/dl)',fontsize=12)\n",
    "line = ax[1].get_lines()[-1]\n",
    "x,y = line.get_data()\n",
    "mask1 = x > 200\n",
    "mask2 = x>=240\n",
    "x1, y1 = x[mask1], y[mask1]\n",
    "x2,y2 = x[mask2],y[mask2]\n",
    "ax[1].fill_between(x1, y1, alpha=0.5, facecolor=colors_red[3])\n",
    "ax[1].fill_between(x2, y2, alpha=0.5, facecolor=colors_red[2])\n",
    "ax[1].hlines(0.0020,xmin=-80,xmax=300,ls='-.',color=colors_dark[2],lw=0.8)\n",
    "ax[1].hlines(0.0059,xmin=-80,xmax=225,ls='-.',color=colors_dark[2],lw=0.8)\n",
    "ax[1].vlines(x=564,ymin=0,ymax=0.0018,ls='-.',color=colors_dark[2],lw=0.8)\n",
    "\n",
    "fig2.text(s='High\\nCholesterol',x=0.55,y=0.30,\n",
    "         fontdict={'color':'white','size':11.5,'fontweight':'semibold','fontname':'monospace','ha':'center'},\n",
    "         backgroundcolor=colors_dark[2])\n",
    "fig2.text(s='Borderline High\\nCholesterol',x=0.55,y=0.60,\n",
    "         fontdict={'color':'white','size':11.5,'fontweight':'semibold','fontname':'monospace','ha':'center'},\n",
    "         backgroundcolor=colors_dark[2])\n",
    "fig2.text(s='Outlier',x=0.885,y=0.33,\n",
    "         fontdict={'color':'white','size':11.5,'fontweight':'semibold',\n",
    "                   'fontname':'monospace','ha':'center'},backgroundcolor=colors_dark[2])\n",
    "\n",
    "\n",
    "fig.legend(handles=custom_lines,labels=('<50% Narrowing','>50% Narrowing'),frameon=False,\n",
    "           ncol=2,bbox_to_anchor=(0.81,0.95),columnspacing=30,fontsize=16)\n",
    "\n",
    "\n",
    "\n",
    "fig.subplots_adjust(wspace=0)\n",
    "fig2.subplots_adjust(wspace=0.1,right=1)\n"
   ]
  },
  {
   "cell_type": "code",
   "execution_count": null,
   "metadata": {
    "_kg_hide-input": true,
    "execution": {
     "iopub.execute_input": "2021-05-30T09:02:46.793046Z",
     "iopub.status.busy": "2021-05-30T09:02:46.792610Z",
     "iopub.status.idle": "2021-05-30T09:02:47.518877Z",
     "shell.execute_reply": "2021-05-30T09:02:47.517786Z",
     "shell.execute_reply.started": "2021-05-30T09:02:46.792998Z"
    }
   },
   "outputs": [],
   "source": [
    "mean_0 = df[df['target']==0]['trestbps'].mean()\n",
    "mean_1 = df[df['target']==1]['trestbps'].mean()\n",
    "\n",
    "custom_lines = [Line2D([0], [0], marker='o', color=colors_blue[3], markerfacecolor=colors_blue[2],ls='--',\n",
    "                       alpha=0.7),\n",
    "                Line2D([0], [0], marker='o', color=colors_red[3], markerfacecolor=colors_red[2],ls='--',\n",
    "                       alpha=0.7)]\n",
    "\n",
    "fig,ax = plt.subplots(1,2,figsize=(20,10),sharey=False)\n",
    "\n",
    "fig.text(s='Resting Blood Pressure Distribution',size=24,fontweight='bold',\n",
    "             fontname='monospace',color=colors_dark[1],y=1,x=0.34\n",
    "             ,alpha=0.8)\n",
    "\n",
    "# Left Line Plot\n",
    "\n",
    "ax[0].plot(df[df['target']==0]['trestbps'],marker='o',lw=0.8,ls='--',alpha=0.7,color=colors_blue[3],\n",
    "            markerfacecolor=colors_blue[2],markersize=5)\n",
    "ax[0].hlines(mean_0,xmin=160,xmax=400,ls='--',color=colors_dark[2])\n",
    "ax[0].invert_xaxis()\n",
    "ax[0].spines['top'].set_color(None)\n",
    "ax[0].spines['left'].set_color(None)\n",
    "ax[0].set_ylim(85,205)\n",
    "ax[0].set_xticks([])\n",
    "ax[0].set_xlim(305,150)\n",
    "ax[0].yaxis.tick_right()\n",
    "ax[0].spines['bottom'].set_color(None)\n",
    "fig.text(s='Average \\nBP: {:.2f}'.format(mean_0),x=0.055,y=0.42,color='white',backgroundcolor=colors_dark[2],\n",
    "        fontsize=14,weight='bold')\n",
    "\n",
    "\n",
    "# Right Line Plot\n",
    "\n",
    "ax[1].plot(df[df['target']==1]['trestbps'],marker='o',lw=0.8,ls='--',alpha=0.7,color=colors_red[3],\n",
    "          markerfacecolor=colors_red[2],markersize=5)\n",
    "ax[1].hlines(mean_1,xmin=-10,xmax=170,ls='--',color=colors_dark[2])\n",
    "ax[1].spines['top'].set_color(None)\n",
    "ax[1].spines['right'].set_color(None)\n",
    "ax[1].spines['bottom'].set_color(None)\n",
    "ax[1].set_ylim(85,205)\n",
    "ax[1].set_xticks([])\n",
    "ax[1].tick_params(axis='y', which='major', labelsize=13)\n",
    "fig.text(s='Average \\nBP: {:.2f}'.format(mean_1),x=0.89,y=0.39,color='white',backgroundcolor=colors_dark[2],\n",
    "        fontsize=14,weight='bold')\n",
    "fig.text(s='(mm Hg)',x=0.51,y=0.905,fontdict={'color':'black','size':12,'ha':'center'})\n",
    "\n",
    "\n",
    "fig2,ax = plt.subplots(1,2,figsize=(15,5),sharey=False)\n",
    "sns.despine(fig2)\n",
    "\n",
    "# Left KDE Plot\n",
    "\n",
    "df[df['target']==0]['trestbps'].plot.kde(ls='--',color=colors_blue[2],ax=ax[0])\n",
    "ax[0].spines['left'].set_color(None)\n",
    "ax[0].set_ylabel(None)\n",
    "ax[0].set_yticks([])\n",
    "ax[0].set_xlabel('Resting Blood Pressure (mm Hg)',fontsize=12)\n",
    "line = ax[0].get_lines()[-1]\n",
    "x, y = line.get_data()\n",
    "mask = x > 140\n",
    "x, y = x[mask], y[mask]\n",
    "ax[0].fill_between(x, y1=y, alpha=0.5, facecolor=colors_blue[3])\n",
    "ax[0].hlines(0.0080,xmin=150,xmax=237,ls='-.',color=colors_dark[2],lw=0.8)\n",
    "\n",
    "\n",
    "# Right KDE Plot\n",
    "\n",
    "df[df['target']==1]['trestbps'].plot.kde(ls='--',color=colors_red[3],ax=ax[1])\n",
    "ax[1].spines['left'].set_color(None)\n",
    "ax[1].set_ylabel(None)\n",
    "ax[1].set_yticks([])\n",
    "fig2.text(s='The distribution plot of blood\\n pressure among both kind\\n of patients is very\\n similar',\n",
    "          x=0.55,y=0.65,\n",
    "         fontdict={'color':colors_dark[3],'size':14,'fontweight':'semibold','fontname':'monospace','ha':'center'})\n",
    "ax[1].set_xlabel('Resting Blood Pressure (mm Hg)',fontsize=12)\n",
    "line = ax[1].get_lines()[-1]\n",
    "x,y = line.get_data()\n",
    "mask = x>140\n",
    "x,y = x[mask],y[mask]\n",
    "ax[1].fill_between(x,y,alpha=0.5,facecolor = colors_red[3])\n",
    "fig2.text(s='Patients with\\n Hypertension',x=0.55,y=0.38,\n",
    "         fontdict={'color':'white','size':11.5,'fontweight':'semibold','fontname':'monospace','ha':'center'},\n",
    "         backgroundcolor=colors_dark[2])\n",
    "ax[1].hlines(0.0085,xmin=50,xmax=150,ls='-.',color=colors_dark[2],lw=0.8)\n",
    "\n",
    "\n",
    "fig.legend(handles=custom_lines,labels=('<50% Narrowing','>50% Narrowing'),frameon=False,\n",
    "           ncol=2,bbox_to_anchor=(0.81,0.95),columnspacing=30,fontsize=16)\n",
    "\n",
    "\n",
    "\n",
    "fig.subplots_adjust(wspace=0)\n",
    "fig2.subplots_adjust(wspace=0.1,right=1)"
   ]
  },
  {
   "cell_type": "code",
   "execution_count": null,
   "metadata": {
    "_kg_hide-input": true,
    "execution": {
     "iopub.execute_input": "2021-05-30T09:02:47.520735Z",
     "iopub.status.busy": "2021-05-30T09:02:47.520415Z",
     "iopub.status.idle": "2021-05-30T09:02:48.067898Z",
     "shell.execute_reply": "2021-05-30T09:02:48.066454Z",
     "shell.execute_reply.started": "2021-05-30T09:02:47.520704Z"
    }
   },
   "outputs": [],
   "source": [
    "mean_0 = df[df['target']==0]['thalach'].mean()\n",
    "mean_1 = df[df['target']==1]['thalach'].mean()\n",
    "\n",
    "custom_lines = [Line2D([0], [0], marker='o', color=colors_blue[3], markerfacecolor=colors_blue[2],ls='--',\n",
    "                       alpha=0.7),\n",
    "                Line2D([0], [0], marker='o', color=colors_red[3], markerfacecolor=colors_red[2],ls='--',\n",
    "                       alpha=0.7)]\n",
    "\n",
    "fig,ax = plt.subplots(1,2,figsize=(20,10),sharey=False)\n",
    "\n",
    "fig.text(s='Maximum Heart Rate Distribution',size=24,fontweight='bold',\n",
    "             fontname='monospace',color=colors_dark[1],y=1.0,x=0.35,alpha=0.8)\n",
    "\n",
    "# Left Line Plot\n",
    "\n",
    "ax[0].plot(df[df['target']==0]['thalach'],marker='o',lw=0.8,ls='--',alpha=0.7,color=colors_blue[3],\n",
    "            markerfacecolor=colors_blue[2],markersize=5)\n",
    "ax[0].hlines(mean_0,xmin=160,xmax=400,ls='--',color=colors_dark[2])\n",
    "ax[0].invert_xaxis()\n",
    "ax[0].spines['top'].set_color(None)\n",
    "ax[0].spines['left'].set_color(None)\n",
    "ax[0].set_ylim(85,205)\n",
    "ax[0].set_xticks([])\n",
    "ax[0].set_xlim(305,150)\n",
    "ax[0].yaxis.tick_right()\n",
    "ax[0].spines['bottom'].set_color(None)\n",
    "fig.text(s='Average Max.\\n Heart Rate \\nAchievied: {:.2f}'.format(mean_0),x=0.02,y=0.44,color='white',\n",
    "         backgroundcolor=colors_dark[2],fontsize=14,weight='bold')\n",
    "\n",
    "\n",
    "# Right Line Plot\n",
    "\n",
    "ax[1].plot(df[df['target']==1]['thalach'],marker='o',lw=0.8,ls='--',alpha=0.7,color=colors_red[3],\n",
    "          markerfacecolor=colors_red[2],markersize=5)\n",
    "ax[1].hlines(mean_1,xmin=-10,xmax=170,ls='--',color=colors_dark[2])\n",
    "ax[1].spines['top'].set_color(None)\n",
    "ax[1].spines['right'].set_color(None)\n",
    "ax[1].spines['bottom'].set_color(None)\n",
    "ax[1].set_ylim(85,205)\n",
    "ax[1].set_xticks([])\n",
    "ax[1].tick_params(axis='y', which='major', labelsize=13)\n",
    "fig.text(s='Average Max.\\n Heart Rate \\nAchievied: {:.2f}'.format(mean_1),x=0.89,y=0.56,color='white',\n",
    "         backgroundcolor=colors_dark[2],fontsize=14,weight='bold')\n",
    "fig.text(s='(BPM)',x=0.51,y=0.905,fontdict={'color':'black','size':12,'ha':'center'})\n",
    "\n",
    "\n",
    "fig2,ax = plt.subplots(1,2,figsize=(15,5),sharey=False)\n",
    "sns.despine(fig2)\n",
    "\n",
    "# Left KDE Plot\n",
    "\n",
    "df[df['target']==0]['thalach'].plot.kde(ls='--',color=colors_blue[2],ax=ax[0])\n",
    "ax[0].spines['left'].set_color(None)\n",
    "ax[0].set_ylabel(None)\n",
    "ax[0].set_yticks([])\n",
    "ax[0].set_xlabel('Max. Heart Rate Achieved (BPM)',fontsize=12)\n",
    "\n",
    "\n",
    "# Right KDE Plot\n",
    "\n",
    "df[df['target']==1]['thalach'].plot.kde(ls='--',color=colors_red[3],ax=ax[1])\n",
    "ax[1].spines['left'].set_color(None)\n",
    "ax[1].set_ylabel(None)\n",
    "ax[1].set_yticks([])\n",
    "fig2.text(s='The average\\n\"Maximum Heart Rate\"\\nof patients with\\n>50% Narrowing \\nwere {:.2f}% higher'.format((mean_1-mean_0)*100/mean_0),\n",
    "          x=0.57,y=0.5,\n",
    "         fontdict={'color':colors_dark[3],'size':14,'fontweight':'semibold','fontname':'monospace','ha':'center'})\n",
    "ax[1].set_xlabel('Max. Heart Rate Achieved (BPM)',fontsize=12)\n",
    "\n",
    "\n",
    "fig.legend(handles=custom_lines,labels=('<50% Narrowing','>50% Narrowing'),frameon=False,\n",
    "           ncol=2,bbox_to_anchor=(0.81,0.95),columnspacing=30,fontsize=16)\n",
    "\n",
    "\n",
    "fig.subplots_adjust(wspace=0)\n",
    "fig2.subplots_adjust(wspace=0.1,right=1)"
   ]
  },
  {
   "cell_type": "code",
   "execution_count": null,
   "metadata": {
    "_kg_hide-input": true,
    "execution": {
     "iopub.execute_input": "2021-05-30T09:02:48.069591Z",
     "iopub.status.busy": "2021-05-30T09:02:48.069253Z",
     "iopub.status.idle": "2021-05-30T09:02:48.511269Z",
     "shell.execute_reply": "2021-05-30T09:02:48.510493Z",
     "shell.execute_reply.started": "2021-05-30T09:02:48.069558Z"
    }
   },
   "outputs": [],
   "source": [
    "fig,ax = plt.subplots(figsize=(15,8))\n",
    "sns.swarmplot(data=df,y='oldpeak',x='target',ax=ax,palette=[colors_blue[3],colors_red[3]])\n",
    "sns.despine(fig)\n",
    "ax.set_yticks(np.linspace(0,6.5,14))\n",
    "ax.set_ylabel('ST Depression Induced By Exercise Relative To Rest',fontsize=12)\n",
    "ax.set_xlabel('Target',fontsize=12)\n",
    "ax.set_xticklabels(['<50% Narrowing','>50% Narrowing'])\n",
    "ax.set_title('Old Peak Distribution',size=18,fontweight='bold',\n",
    "             fontname='monospace',color=colors_dark[1],y=1.05,x=0.5,alpha=0.8)\n",
    "\n",
    "plt.show()"
   ]
  },
  {
   "cell_type": "markdown",
   "metadata": {},
   "source": [
    "### Distribution of categorical with respect to the target feature"
   ]
  },
  {
   "cell_type": "code",
   "execution_count": null,
   "metadata": {
    "_kg_hide-input": true,
    "execution": {
     "iopub.execute_input": "2021-05-30T09:02:48.512693Z",
     "iopub.status.busy": "2021-05-30T09:02:48.512288Z",
     "iopub.status.idle": "2021-05-30T09:02:49.079760Z",
     "shell.execute_reply": "2021-05-30T09:02:49.078947Z",
     "shell.execute_reply.started": "2021-05-30T09:02:48.512662Z"
    }
   },
   "outputs": [],
   "source": [
    "col_mix = [colors_blue[3],colors_red[3]]\n",
    "\n",
    "\n",
    "fig,ax = plt.subplots(2,2,figsize=(14,12))\n",
    "\n",
    "fig.text(s=\"Categorial Features Distributions\",size=20,fontweight='bold',fontname='monospace',\n",
    "             color=colors_dark[1],y=1,x=0.33,alpha=0.8)\n",
    "\n",
    "\n",
    "sns.despine()\n",
    "\n",
    "\n",
    "sns.countplot(data=df,x='sex',hue='target',ax=ax[0][0],palette=col_mix,alpha=0.55,edgecolor=colors_dark[2],\n",
    "              lw=1.25,saturation=1)\n",
    "ax[0,0].get_legend().remove()\n",
    "ax[0,0].set_xlabel('Sex',fontsize=12)\n",
    "ax[0,0].set_title('80.2% of Female\\npatients had\\n >50% narrowing',y=0.65,x=0.3,\n",
    "                fontdict={'color':colors_dark[3],'size':12,'fontweight':'semibold','fontname':'monospace'})\n",
    "ax[0,0].spines['left'].set_position(('outward', 8))\n",
    "ax[0,0].set_ylim(0,120)\n",
    "ax[0,0].set_ylabel(None)\n",
    "\n",
    "\n",
    "sns.countplot(data=df,x='cp',hue='target',ax=ax[0][1],palette=col_mix,alpha=0.55,edgecolor=colors_dark[2],\n",
    "             lw=1.25,saturation=1)\n",
    "ax[0,1].get_legend().remove()\n",
    "ax[0,1].set_ylabel(None)\n",
    "ax[0,1].set_xlabel('Chest Pain Type',fontsize=12)\n",
    "ax[0,1].set_title('Patients with non-asymptomatic chest pain\\n tended to have a greater chance\\n of having a heart disease',\n",
    "                  y=0.77,x=0.7,\n",
    "                  fontdict={'color':colors_dark[3],'size':12,'fontweight':'semibold','fontname':'monospace'})\n",
    "ax[0,1].spines['left'].set_position(('outward', 8))\n",
    "ax[0,1].set_ylim(0,110)\n",
    "\n",
    "\n",
    "sns.countplot(data=df,x='fbs',hue='target',ax=ax[1][0],palette=col_mix,alpha=0.55,edgecolor=colors_dark[2],\n",
    "             lw=1.25,saturation=1)\n",
    "ax[1,0].get_legend().remove()\n",
    "ax[1,0].set_xlabel('Fasting Blood Sugar',fontsize=12)\n",
    "\n",
    "ax[1,0].set_title('The variance seems\\nsmall which might\\nnot prove helpful\\nto the model',y=0.27,x=0.75,\n",
    "                fontdict={'color':colors_dark[3],'size':12,'fontweight':'semibold','fontname':'monospace'})\n",
    "ax[1,0].spines['left'].set_position(('outward', 8))\n",
    "ax[1,0].set_ylim(0,140)\n",
    "ax[1,0].set_ylabel(None)\n",
    "\n",
    "\n",
    "sns.countplot(data=df,x='restecg',hue='target',ax=ax[1][1],palette=col_mix,alpha=0.55,edgecolor=colors_dark[2],\n",
    "             lw=1.25,saturation=1)\n",
    "ax[1,1].set_ylabel(None)\n",
    "ax[1,1].get_legend().remove()\n",
    "ax[1,1].set_xlabel('Resting Electrocardiographic Results',fontsize=12)\n",
    "ax[1,1].set_title('62.16% of patients with\\n \"Normal\" ECG result tended\\n to have a greater chance\\n of having a heart disease',\n",
    "                  y=0.60,x=0.95,fontdict={'color':colors_dark[3],'size':12,'fontweight':'semibold','fontname':'monospace'})\n",
    "ax[1,1].spines['left'].set_position(('outward', 8))\n",
    "ax[1,1].set_ylim(0,100)\n",
    "\n",
    "plt.subplots_adjust(wspace=0.5,hspace=0.5)\n",
    "fig.legend(['<50% Narrowing','>50% Narrowing'],frameon=False,ncol=2,\n",
    "           columnspacing=7,fontsize=12,bbox_to_anchor=(0.71,0.97))\n",
    "\n",
    "plt.show()"
   ]
  },
  {
   "cell_type": "code",
   "execution_count": null,
   "metadata": {
    "_kg_hide-input": true,
    "execution": {
     "iopub.execute_input": "2021-05-30T09:02:49.081678Z",
     "iopub.status.busy": "2021-05-30T09:02:49.081272Z",
     "iopub.status.idle": "2021-05-30T09:02:49.661649Z",
     "shell.execute_reply": "2021-05-30T09:02:49.660547Z",
     "shell.execute_reply.started": "2021-05-30T09:02:49.081647Z"
    }
   },
   "outputs": [],
   "source": [
    "col_mix = [colors_blue[3],colors_red[3]]\n",
    "\n",
    "fig,ax = plt.subplots(2,2,figsize=(14,12))\n",
    "\n",
    "fig.text(s=\"Categorial Features Distributions\",size=20,fontweight='bold',fontname='monospace',\n",
    "             color=colors_dark[1],y=1,x=0.33,alpha=0.8)\n",
    "\n",
    "sns.despine()\n",
    "\n",
    "sns.countplot(data=df,x='exang',hue='target',ax=ax[0][0],palette=col_mix,alpha=0.55,edgecolor=colors_dark[2],\n",
    "              lw=1.25,saturation=1)\n",
    "ax[0,0].get_legend().remove()\n",
    "ax[0,0].set_xlabel('Excercise Induced Angina',fontsize=12)\n",
    "ax[0,0].set_title('69% of patients\\nwho did not have EIA\\nhad a heart disease',y=0.73,x=0.74,\n",
    "                fontdict={'color':colors_dark[3],'size':12,'fontweight':'semibold','fontname':'monospace'})\n",
    "ax[0,0].spines['left'].set_position(('outward', 8))\n",
    "ax[0,0].set_ylim(0,150)\n",
    "ax[0,0].set_ylabel(None)\n",
    "\n",
    "\n",
    "sns.countplot(data=df,x='slope',hue='target',ax=ax[0][1],palette=col_mix,alpha=0.55,edgecolor=colors_dark[2],\n",
    "             lw=1.25,saturation=1)\n",
    "ax[0,1].get_legend().remove()\n",
    "ax[0,1].set_ylabel(None)\n",
    "ax[0,1].set_xlabel('Slope of the peak exercise\\nST segment',fontsize=12)\n",
    "ax[0,1].set_title('74.82% of patients\\n with upsloping slope\\n in the ST segment\\n had a heart disease',\n",
    "                  y=0.82,x=0.5,\n",
    "                  fontdict={'color':colors_dark[3],'size':12,'fontweight':'semibold','fontname':'monospace'})\n",
    "ax[0,1].spines['left'].set_position(('outward', 8))\n",
    "ax[0,1].set_ylim(0,110)\n",
    "\n",
    "\n",
    "sns.countplot(data=df,x='ca',hue='target',ax=ax[1][0],palette=col_mix,alpha=0.55,edgecolor=colors_dark[2],\n",
    "             lw=1.25,saturation=1)\n",
    "ax[1,0].get_legend().remove()\n",
    "ax[1,0].set_xlabel('Number Of Major\\n Vessels Colored By\\n Fluoroscopy',fontsize=12)\n",
    "\n",
    "ax[1,0].set_title('43.62% of all the\\npatients had a\\n heart disease while\\nhaving 0 colored vessels\\n after Fluoroscopy',\n",
    "                  y=0.5,x=0.57,fontdict={'color':colors_dark[3],\n",
    "                                          'size':12,'fontweight':'semibold','fontname':'monospace'})\n",
    "ax[1,0].spines['left'].set_position(('outward', 8))\n",
    "ax[1,0].set_ylim(0,140)\n",
    "ax[1,0].set_ylabel(None)\n",
    "\n",
    "\n",
    "sns.countplot(data=df,x='thal',hue='target',ax=ax[1][1],palette=col_mix,alpha=0.55,edgecolor=colors_dark[2],\n",
    "             lw=1.25,saturation=1)\n",
    "ax[1,1].set_ylabel(None)\n",
    "ax[1,1].get_legend().remove()\n",
    "ax[1,1].set_xlabel('Thalium Stress Test Result',fontsize=12)\n",
    "ax[1,1].set_title('77.58% of patients\\n with \"Normal\" Stress\\n Test result had\\n a heart disease',y=0.65,x=0.23,\n",
    "                fontdict={'color':colors_dark[3],'size':12,'fontweight':'semibold','fontname':'monospace'})\n",
    "ax[1,1].spines['left'].set_position(('outward', 8))\n",
    "ax[1,1].set_ylim(0,100)\n",
    "\n",
    "plt.subplots_adjust(wspace=0.5,hspace=0.5)\n",
    "fig.legend(['<50% Narrowing','>50% Narrowing'],frameon=False,ncol=2,\n",
    "           columnspacing=7,fontsize=12,bbox_to_anchor=(0.71,0.97))\n",
    "\n",
    "plt.show()"
   ]
  },
  {
   "cell_type": "markdown",
   "metadata": {},
   "source": [
    "***"
   ]
  },
  {
   "cell_type": "markdown",
   "metadata": {},
   "source": [
    "# Feature Selection"
   ]
  },
  {
   "cell_type": "code",
   "execution_count": null,
   "metadata": {
    "_kg_hide-input": true,
    "execution": {
     "iopub.execute_input": "2021-05-30T09:02:49.663326Z",
     "iopub.status.busy": "2021-05-30T09:02:49.663041Z",
     "iopub.status.idle": "2021-05-30T09:02:50.464906Z",
     "shell.execute_reply": "2021-05-30T09:02:50.463913Z",
     "shell.execute_reply.started": "2021-05-30T09:02:49.663298Z"
    }
   },
   "outputs": [],
   "source": [
    "corr = df.corr()\n",
    "mask = np.zeros_like(corr)\n",
    "mask[np.triu_indices_from(mask)] = True\n",
    "cols = list(df.columns)\n",
    "\n",
    "fig,ax = plt.subplots(figsize=(18,10))\n",
    "ax = sns.heatmap(corr,annot=True,cmap=colors_blue,alpha=0.6,linewidths=2,\n",
    "            annot_kws={'weight':'bold','family':'monospace','size':11},mask=mask)\n",
    "ax.set_xticks(np.linspace(0.5,12.5,13))\n",
    "ax.set_yticks(np.linspace(1.5,13.5,13))\n",
    "ax.set_xticklabels(labels=cols[:-1],\n",
    "                   fontdict={'weight':'semibold','family':'monospace','size':11,\n",
    "                             'color':colors_dark[1],'y':-0.01})\n",
    "ax.set_yticklabels(labels=cols[1:],\n",
    "                   fontdict={'weight':'semibold','family':'monospace','size':11,\n",
    "                             'color':colors_dark[1],'x':-0.01})\n",
    "fig.suptitle('Correlation\\n\\nBetween\\n\\nFeatures',\n",
    "             size=24,fontweight='bold',fontname='monospace',\n",
    "             color=colors_dark[1],y=0.72,x=0.5,alpha=0.8)\n",
    "plt.show()"
   ]
  },
  {
   "cell_type": "markdown",
   "metadata": {},
   "source": [
    "Now let's see which features are significant to our target column"
   ]
  },
  {
   "cell_type": "markdown",
   "metadata": {},
   "source": [
    "## Performing Pearson's Regression Test"
   ]
  },
  {
   "cell_type": "markdown",
   "metadata": {},
   "source": [
    "In this, we find the correlation coefficient between the features and the target variable.<br> \n",
    "After that we find the p-value and check it against alpha (Significance Level) to see if a feature will be significant to our model or not. "
   ]
  },
  {
   "cell_type": "code",
   "execution_count": null,
   "metadata": {
    "execution": {
     "iopub.execute_input": "2021-05-30T09:03:03.382040Z",
     "iopub.status.busy": "2021-05-30T09:03:03.381657Z",
     "iopub.status.idle": "2021-05-30T09:03:03.395907Z",
     "shell.execute_reply": "2021-05-30T09:03:03.394658Z",
     "shell.execute_reply.started": "2021-05-30T09:03:03.382009Z"
    }
   },
   "outputs": [],
   "source": [
    "new_df = df.drop(['sex','cp','fbs','restecg','exang','slope','ca','thal','target'],axis=1)\n",
    "for i in new_df.columns:\n",
    "    r,p = stats.pearsonr(df['target'],new_df[i])\n",
    "    if p<0.01:\n",
    "        print(f'{i} is significant')\n",
    "    else:\n",
    "        print(f'{i} is not significant')"
   ]
  },
  {
   "cell_type": "markdown",
   "metadata": {},
   "source": [
    "## Using mutual_info_classif "
   ]
  },
  {
   "cell_type": "markdown",
   "metadata": {},
   "source": [
    "Note: We can only use this if we're facing a classification problem.<br> For regression problems, we can use the mutual_info_regression function from the feature_selection library."
   ]
  },
  {
   "cell_type": "code",
   "execution_count": null,
   "metadata": {},
   "outputs": [],
   "source": [
    "X=df.drop('target',axis=1)\n",
    "y=df['target']"
   ]
  },
  {
   "cell_type": "code",
   "execution_count": null,
   "metadata": {},
   "outputs": [],
   "source": [
    "model = mutual_info_classif(X,y)\n",
    "model_series=pd.Series(model)\n",
    "model_series.index= X.columns\n",
    "model_series.sort_values(ascending=False)"
   ]
  },
  {
   "cell_type": "markdown",
   "metadata": {},
   "source": [
    "With this, we can use the top 8 features"
   ]
  },
  {
   "cell_type": "code",
   "execution_count": null,
   "metadata": {},
   "outputs": [],
   "source": [
    "top_8_cols = SelectKBest(mutual_info_classif,k=8)\n",
    "top_8_cols.fit(X,y)\n",
    "X.columns[top_8_cols.get_support()]"
   ]
  },
  {
   "cell_type": "markdown",
   "metadata": {},
   "source": [
    "## Performing Chi-Square Test"
   ]
  },
  {
   "cell_type": "code",
   "execution_count": null,
   "metadata": {},
   "outputs": [],
   "source": [
    "chi_df=df[['sex','cp','fbs','restecg','exang','slope','ca','thal','target']]\n",
    "X_chi=chi_df.drop('target',axis=1)\n",
    "y_chi=chi_df['target']\n",
    "f,p=chi2(X_chi,y_chi)"
   ]
  },
  {
   "cell_type": "markdown",
   "metadata": {},
   "source": [
    "The smaller the p-value, the better a particular feature is in this test.\n",
    "Also, The bigger the f-value, the better a feature is,"
   ]
  },
  {
   "cell_type": "code",
   "execution_count": null,
   "metadata": {},
   "outputs": [],
   "source": [
    "chi_p = pd.Series(p)\n",
    "chi_p.index = X_chi.columns\n",
    "chi_p.sort_values()"
   ]
  },
  {
   "cell_type": "markdown",
   "metadata": {},
   "source": [
    "So after all the tests and some trial and error, I decided to choose the following features for my model."
   ]
  },
  {
   "cell_type": "code",
   "execution_count": null,
   "metadata": {},
   "outputs": [],
   "source": [
    "X = df[['thal','exang','cp','ca','sex','oldpeak','slope']]\n",
    "y=df['target']"
   ]
  },
  {
   "cell_type": "markdown",
   "metadata": {},
   "source": [
    "***"
   ]
  },
  {
   "cell_type": "markdown",
   "metadata": {},
   "source": [
    "# Modelling"
   ]
  },
  {
   "cell_type": "code",
   "execution_count": null,
   "metadata": {},
   "outputs": [],
   "source": [
    "X_train, X_test, y_train, y_test = train_test_split(X, y, test_size=0.3,random_state=np.random.randint(1,1000,1)[0])"
   ]
  },
  {
   "cell_type": "code",
   "execution_count": null,
   "metadata": {},
   "outputs": [],
   "source": [
    "scaler = StandardScaler()\n",
    "scaler.fit(X_train)\n",
    "scaled_train = scaler.transform(X_train)\n",
    "scaled_test = scaler.transform(X_test)"
   ]
  },
  {
   "cell_type": "code",
   "execution_count": null,
   "metadata": {},
   "outputs": [],
   "source": [
    "X_train = pd.DataFrame(scaled_train,columns=X.columns,index=X_train.index)"
   ]
  },
  {
   "cell_type": "code",
   "execution_count": null,
   "metadata": {},
   "outputs": [],
   "source": [
    "X_test = pd.DataFrame(scaled_test,columns=X.columns,index=X_test.index)"
   ]
  },
  {
   "cell_type": "markdown",
   "metadata": {},
   "source": [
    "## Spot Checking"
   ]
  },
  {
   "cell_type": "markdown",
   "metadata": {},
   "source": [
    "**Spot Checking** is a fast and easy way to see which algorithms will work the best with the features.\n",
    "It gives you a good starting point as to which algorithms you should focus on depending upon their results."
   ]
  },
  {
   "cell_type": "code",
   "execution_count": null,
   "metadata": {},
   "outputs": [],
   "source": [
    "models =[(\"LR\", LogisticRegression(max_iter=1000)),(\"SVC\", SVC()),('KNN',KNeighborsClassifier(n_neighbors=10)),\n",
    "         (\"DTC\", DecisionTreeClassifier()),(\"GNB\", GaussianNB()),\n",
    "        (\"SGDC\", SGDClassifier()),(\"Perc\", Perceptron()),(\"NC\",NearestCentroid()),\n",
    "        (\"Ridge\", RidgeClassifier()),(\"NuSVC\", NuSVC()),(\"BNB\", BernoulliNB()),\n",
    "         ('RF',RandomForestClassifier()),('ADA',AdaBoostClassifier()),\n",
    "        ('XGB',GradientBoostingClassifier()),('PAC',PassiveAggressiveClassifier())]\n",
    "\n",
    "results = []\n",
    "names = []\n",
    "finalResults = []\n",
    "\n",
    "for name,model in models:\n",
    "    model.fit(X_train, y_train)\n",
    "    model_results = model.predict(X_test)\n",
    "    score = precision_score(y_test, model_results,average='macro')\n",
    "    results.append(score)\n",
    "    names.append(name)\n",
    "    finalResults.append((name,score))\n",
    "    \n",
    "finalResults.sort(key=lambda k:k[1],reverse=True)"
   ]
  },
  {
   "cell_type": "code",
   "execution_count": null,
   "metadata": {},
   "outputs": [],
   "source": [
    "finalResults[:10]"
   ]
  },
  {
   "cell_type": "markdown",
   "metadata": {},
   "source": [
    "***"
   ]
  },
  {
   "cell_type": "markdown",
   "metadata": {},
   "source": [
    "# Final Model"
   ]
  },
  {
   "cell_type": "markdown",
   "metadata": {},
   "source": [
    "After alot of trial and error, I found out 6 algorithms which worked the best with my chosen features.\n",
    "They were:\n",
    "1. Logistic Regression\n",
    "2. SVC\n",
    "3. Random Forest\n",
    "4. PassiveAgressiveClassifer\n",
    "5. SGDC\n",
    "6. KNN"
   ]
  },
  {
   "cell_type": "markdown",
   "metadata": {},
   "source": [
    "## Hyperparameter Tuning"
   ]
  },
  {
   "cell_type": "code",
   "execution_count": null,
   "metadata": {},
   "outputs": [],
   "source": [
    "model_params = {\n",
    "    'Logistic Regression':\n",
    "    {\n",
    "        'model':LogisticRegression(max_iter=1000),\n",
    "        'params':\n",
    "        {\n",
    "            'C':np.logspace(-3,2,30),\n",
    "            'class_weight':['balanced',None]\n",
    "        }\n",
    "    },\n",
    "    'SVM':\n",
    "    {\n",
    "        'model':SVC(),\n",
    "        'params':\n",
    "        {\n",
    "            'C':np.logspace(-3,2,30),\n",
    "            'gamma':np.logspace(-3,2,30)\n",
    "        }\n",
    "    },\n",
    "    'Random Forest':\n",
    "    {\n",
    "        'model':RandomForestClassifier(),\n",
    "        'params':\n",
    "        {\n",
    "            'n_estimators':[10,50,100,200],\n",
    "            'max_features':['auto','sqrt','log2'],\n",
    "            'max_depth':list(range(1,11))\n",
    "        }\n",
    "    },\n",
    "    'K-Nearest Neighbors':\n",
    "    {\n",
    "        'model':KNeighborsClassifier(),\n",
    "        'params':\n",
    "        {\n",
    "            'n_neighbors':list(range(1,41)),\n",
    "            'weights':['uniform','distance']\n",
    "        }\n",
    "    },\n",
    "    'Passive Aggressive Classifier':\n",
    "    {\n",
    "        'model':PassiveAggressiveClassifier(),\n",
    "        'params':\n",
    "        {\n",
    "            'C':np.logspace(-3,1,30),\n",
    "            'loss':['hinge','squared_hinge']\n",
    "        }\n",
    "    },\n",
    "    'SGD':\n",
    "    {\n",
    "        'model':SGDClassifier(),\n",
    "        'params':\n",
    "        {\n",
    "            'alpha':np.logspace(-3,1,30),\n",
    "            'penalty':['l1','l2','elasticnet'],\n",
    "            'l1_ratio':[0.05,0.1,0.15,0.20,0.25,0.35,0.5,0.6,0.7,0.8,0.9],\n",
    "        }\n",
    "    }\n",
    "}"
   ]
  },
  {
   "cell_type": "code",
   "execution_count": null,
   "metadata": {},
   "outputs": [],
   "source": [
    "cv = RepeatedStratifiedKFold(n_splits=5,n_repeats=2)\n",
    "scores=[]\n",
    "for model_name,params in model_params.items():\n",
    "    rs = GridSearchCV(params['model'],params['params'],cv=cv)\n",
    "    rs.fit(X,y)\n",
    "    scores.append([model_name,dict(rs.best_params_),rs.best_score_])\n",
    "data=pd.DataFrame(scores,columns=['Model','Parameters','Score'])\n",
    "data"
   ]
  },
  {
   "cell_type": "markdown",
   "metadata": {},
   "source": [
    "Here are the best parameters for all of my chosen models"
   ]
  },
  {
   "cell_type": "markdown",
   "metadata": {},
   "source": [
    "***"
   ]
  },
  {
   "cell_type": "markdown",
   "metadata": {},
   "source": [
    "# Ensembling The Models"
   ]
  },
  {
   "cell_type": "markdown",
   "metadata": {},
   "source": [
    "Ensembling your best models tend to give better overall results and it is a good practice whenever you want to solve a problem."
   ]
  },
  {
   "cell_type": "code",
   "execution_count": null,
   "metadata": {},
   "outputs": [],
   "source": [
    "param=data['Parameters']\n",
    "model = VotingClassifier(estimators=[('LR',LogisticRegression(**param[0])),\n",
    "                                           ('SVC', SVC(**param[1])),\n",
    "                                           ('RF',RandomForestClassifier(**param[2])),\n",
    "                                           ('KNN',KNeighborsClassifier(**param[3])),\n",
    "                                           ('PAC',PassiveAggressiveClassifier(**param[4])),\n",
    "                                           ('SGD',SGDClassifier(**param[5]))\n",
    "                                          ],voting='hard')\n",
    "\n",
    "accuracy=[]\n",
    "\n",
    "skf = RepeatedStratifiedKFold(n_splits=5,n_repeats=2)\n",
    "skf.get_n_splits(X,y)\n",
    "\n",
    "for train_index, test_index in skf.split(X,y):\n",
    "    \n",
    "    X_train, X_test= X.iloc[train_index], X.iloc[test_index]\n",
    "    y_train, y_test= y[train_index], y[test_index]\n",
    "    \n",
    "    model.fit(X_train,y_train)\n",
    "    predictions=model.predict(X_test)\n",
    "    score=accuracy_score(y_test,predictions)\n",
    "    accuracy.append(score)\n",
    "    "
   ]
  },
  {
   "cell_type": "code",
   "execution_count": null,
   "metadata": {},
   "outputs": [],
   "source": [
    "np.mean(accuracy)"
   ]
  },
  {
   "cell_type": "markdown",
   "metadata": {},
   "source": [
    "# Conclusion"
   ]
  },
  {
   "cell_type": "markdown",
   "metadata": {},
   "source": [
    "The model turned out to be ~85% accurate with the ensemble technique.<br>\n",
    "With this, I'll conclude the EDA and Modelling of the Heart Disease Dataset!"
   ]
  },
  {
   "cell_type": "markdown",
   "metadata": {},
   "source": [
    "***"
   ]
  },
  {
   "cell_type": "markdown",
   "metadata": {},
   "source": [
    "# <center>Thank You!"
   ]
  }
 ],
 "metadata": {
  "kernelspec": {
   "display_name": "Python 3",
   "language": "python",
   "name": "python3"
  },
  "language_info": {
   "codemirror_mode": {
    "name": "ipython",
    "version": 3
   },
   "file_extension": ".py",
   "mimetype": "text/x-python",
   "name": "python",
   "nbconvert_exporter": "python",
   "pygments_lexer": "ipython3",
   "version": "3.6.4"
  }
 },
 "nbformat": 4,
 "nbformat_minor": 4
}
