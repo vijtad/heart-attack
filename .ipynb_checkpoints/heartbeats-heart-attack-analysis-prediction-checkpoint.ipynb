{
 "cells": [
  {
   "cell_type": "markdown",
   "metadata": {},
   "source": [
    "# Project Description\n",
    "HeartBeats 💓🔍: Unraveling the Rhythm of Heart Attack Analysis & Prediction\n",
    "\n",
    "## Overview\n",
    "Welcome to HeartBeats 💓🔍! In this data science project, we embark on a captivating journey to explore the world of heart attack analysis and prediction. Our aim is to gain valuable insights into the factors that contribute to heart attacks and develop an accurate predictive model to assess the risk of heart attack occurrence. Through a comprehensive workflow of data exploration, visualization, feature engineering, and machine learning, we seek to uncover the rhythm behind this critical cardiovascular event.\n",
    "\n",
    "## Dataset\n",
    "Our dataset contains a wealth of information related to heart health, including various patient attributes, lifestyle factors, and medical indicators. It provides a unique opportunity to understand the interplay between these factors and the occurrence of heart attacks. By harnessing the power of data, we strive to bring clarity to this intricate medical challenge.\n",
    "\n",
    "## Key Objectives\n",
    "\n",
    "#### **Data Exploration**\n",
    "We will start by diving deep into the dataset, unearthing meaningful patterns and relationships between the variables. Through insightful visualizations, we aim to gain a comprehensive understanding of the data landscape.\n",
    "\n",
    "#### **Feature Engineering**\n",
    "Armed with domain knowledge and creative thinking, we will engineer new features to enhance the predictive power of our model. Crafting relevant features is like composing the melody that guides our heart attack prediction.\n",
    "\n",
    "#### **Machine Learning Model**\n",
    "Leveraging advanced machine learning algorithms, we will build a robust predictive model to anticipate heart attack occurrences. Our model will learn from the past to pave the way for a healthier future.\n",
    "\n",
    "#### **Model Evaluation**\n",
    "Rigorous evaluation of our model's performance will be conducted to ensure its reliability and accuracy. We will fine-tune the model's parameters to strike the right chord in predicting heart attack risks.\n",
    "\n",
    "#### **Insights & Interpretations**\n",
    "Throughout the project, we will uncover fascinating insights into the factors that influence heart attack occurrences. By interpreting our model's outcomes, we hope to unlock novel perspectives on heart health.\n",
    "\n",
    "#### **Impact & Implications**\n",
    "HeartBeats 💓🔍 aspires to make a significant impact on the field of cardiovascular health. Our findings can empower healthcare professionals with better risk assessment tools, allowing for proactive interventions and potentially saving lives. Moreover, the knowledge gained from this project may foster public awareness about heart health and inspire lifestyle improvements.\n",
    "\n",
    "### **Join the Rhythm**\n",
    "We invite all data enthusiasts, medical professionals, and passionate learners to join us in the HeartBeats 💓🔍 project. Together, we will unravel the mysteries surrounding heart attacks and endeavor to create a harmonious symphony of data-driven insights. Let's take this journey to the rhythm of the heart! ❤️🚀"
   ]
  },
  {
   "cell_type": "code",
   "execution_count": null,
   "metadata": {
    "_cell_guid": "b1076dfc-b9ad-4769-8c92-a6c4dae69d19",
    "_uuid": "8f2839f25d086af736a60e9eeb907d3b93b6e0e5",
    "execution": {
     "iopub.execute_input": "2023-07-25T14:15:22.389781Z",
     "iopub.status.busy": "2023-07-25T14:15:22.389354Z",
     "iopub.status.idle": "2023-07-25T14:15:22.407884Z",
     "shell.execute_reply": "2023-07-25T14:15:22.406230Z",
     "shell.execute_reply.started": "2023-07-25T14:15:22.389748Z"
    }
   },
   "outputs": [],
   "source": [
    "# This Python 3 environment comes with many helpful analytics libraries installed\n",
    "# It is defined by the kaggle/python Docker image: https://github.com/kaggle/docker-python\n",
    "# For example, here's several helpful packages to load\n",
    "\n",
    "import numpy as np # linear algebra\n",
    "import pandas as pd # data processing, CSV file I/O (e.g. pd.read_csv)\n",
    "\n",
    "# Input data files are available in the read-only \"../input/\" directory\n",
    "# For example, running this (by clicking run or pressing Shift+Enter) will list all files under the input directory\n",
    "\n",
    "import os\n",
    "for dirname, _, filenames in os.walk('/kaggle/input'):\n",
    "    for filename in filenames:\n",
    "        print(os.path.join(dirname, filename))\n",
    "\n",
    "# You can write up to 20GB to the current directory (/kaggle/working/) that gets preserved as output when you create a version using \"Save & Run All\" \n",
    "# You can also write temporary files to /kaggle/temp/, but they won't be saved outside of the current session"
   ]
  },
  {
   "cell_type": "code",
   "execution_count": null,
   "metadata": {
    "execution": {
     "iopub.execute_input": "2023-07-25T14:15:22.410699Z",
     "iopub.status.busy": "2023-07-25T14:15:22.410369Z",
     "iopub.status.idle": "2023-07-25T14:15:22.417464Z",
     "shell.execute_reply": "2023-07-25T14:15:22.416030Z",
     "shell.execute_reply.started": "2023-07-25T14:15:22.410666Z"
    }
   },
   "outputs": [],
   "source": [
    "np.random.seed(0)\n",
    "import matplotlib.pyplot as plt\n",
    "import seaborn as sns"
   ]
  },
  {
   "cell_type": "code",
   "execution_count": null,
   "metadata": {
    "execution": {
     "iopub.execute_input": "2023-07-25T14:15:22.420815Z",
     "iopub.status.busy": "2023-07-25T14:15:22.420426Z",
     "iopub.status.idle": "2023-07-25T14:15:22.443687Z",
     "shell.execute_reply": "2023-07-25T14:15:22.442126Z",
     "shell.execute_reply.started": "2023-07-25T14:15:22.420783Z"
    }
   },
   "outputs": [],
   "source": [
    "data = pd.read_csv('/kaggle/input/heart-attack-analysis-prediction-dataset/heart.csv')\n",
    "\n",
    "data.shape"
   ]
  },
  {
   "cell_type": "code",
   "execution_count": null,
   "metadata": {
    "execution": {
     "iopub.execute_input": "2023-07-25T14:15:22.448709Z",
     "iopub.status.busy": "2023-07-25T14:15:22.447781Z",
     "iopub.status.idle": "2023-07-25T14:15:22.465393Z",
     "shell.execute_reply": "2023-07-25T14:15:22.464581Z",
     "shell.execute_reply.started": "2023-07-25T14:15:22.448664Z"
    }
   },
   "outputs": [],
   "source": [
    "data.head()"
   ]
  },
  {
   "cell_type": "code",
   "execution_count": null,
   "metadata": {
    "execution": {
     "iopub.execute_input": "2023-07-25T14:15:22.467205Z",
     "iopub.status.busy": "2023-07-25T14:15:22.466790Z",
     "iopub.status.idle": "2023-07-25T14:15:25.263799Z",
     "shell.execute_reply": "2023-07-25T14:15:25.262140Z",
     "shell.execute_reply.started": "2023-07-25T14:15:22.467169Z"
    }
   },
   "outputs": [],
   "source": [
    "data.hist( figsize=(20, 6) )\n",
    "plt.tight_layout()"
   ]
  },
  {
   "cell_type": "code",
   "execution_count": null,
   "metadata": {
    "execution": {
     "iopub.execute_input": "2023-07-25T14:15:25.267072Z",
     "iopub.status.busy": "2023-07-25T14:15:25.266742Z",
     "iopub.status.idle": "2023-07-25T14:15:25.282619Z",
     "shell.execute_reply": "2023-07-25T14:15:25.280721Z",
     "shell.execute_reply.started": "2023-07-25T14:15:25.267046Z"
    }
   },
   "outputs": [],
   "source": [
    "data.info()"
   ]
  },
  {
   "cell_type": "code",
   "execution_count": null,
   "metadata": {
    "execution": {
     "iopub.execute_input": "2023-07-25T14:15:25.284998Z",
     "iopub.status.busy": "2023-07-25T14:15:25.284618Z",
     "iopub.status.idle": "2023-07-25T14:15:25.335457Z",
     "shell.execute_reply": "2023-07-25T14:15:25.333665Z",
     "shell.execute_reply.started": "2023-07-25T14:15:25.284967Z"
    }
   },
   "outputs": [],
   "source": [
    "data.describe()"
   ]
  },
  {
   "cell_type": "markdown",
   "metadata": {},
   "source": [
    "# Separing Features"
   ]
  },
  {
   "cell_type": "code",
   "execution_count": null,
   "metadata": {
    "execution": {
     "iopub.execute_input": "2023-07-25T14:15:25.337576Z",
     "iopub.status.busy": "2023-07-25T14:15:25.337200Z",
     "iopub.status.idle": "2023-07-25T14:15:25.345490Z",
     "shell.execute_reply": "2023-07-25T14:15:25.343354Z",
     "shell.execute_reply.started": "2023-07-25T14:15:25.337541Z"
    }
   },
   "outputs": [],
   "source": [
    "num_vars = [ 'age', 'trtbps', 'chol', 'thalachh', 'oldpeak' ]\n",
    "cat_vars = [ 'sex', 'cp', 'fbs', 'restecg', 'exng', 'slp', 'caa', 'thall' ]\n",
    "target = 'output'"
   ]
  },
  {
   "cell_type": "markdown",
   "metadata": {},
   "source": [
    "# Univariate"
   ]
  },
  {
   "cell_type": "markdown",
   "metadata": {},
   "source": [
    "## Target"
   ]
  },
  {
   "cell_type": "code",
   "execution_count": null,
   "metadata": {
    "execution": {
     "iopub.execute_input": "2023-07-25T14:15:25.347976Z",
     "iopub.status.busy": "2023-07-25T14:15:25.347429Z",
     "iopub.status.idle": "2023-07-25T14:15:25.548808Z",
     "shell.execute_reply": "2023-07-25T14:15:25.546606Z",
     "shell.execute_reply.started": "2023-07-25T14:15:25.347930Z"
    }
   },
   "outputs": [],
   "source": [
    "sns.countplot(data, x=target)"
   ]
  },
  {
   "cell_type": "code",
   "execution_count": null,
   "metadata": {
    "execution": {
     "iopub.execute_input": "2023-07-25T14:15:25.551708Z",
     "iopub.status.busy": "2023-07-25T14:15:25.551112Z",
     "iopub.status.idle": "2023-07-25T14:15:27.440854Z",
     "shell.execute_reply": "2023-07-25T14:15:27.439177Z",
     "shell.execute_reply.started": "2023-07-25T14:15:25.551656Z"
    }
   },
   "outputs": [],
   "source": [
    "fig, axs = plt.subplots(2,5, figsize=(20,8))\n",
    "axs = axs.ravel()\n",
    "\n",
    "for i, feature in enumerate(num_vars):\n",
    "    sns.histplot(data, x=feature, ax=axs[i])\n",
    "    sns.violinplot(data, y=feature, ax=axs[i+5])\n",
    "\n",
    "plt.tight_layout()"
   ]
  },
  {
   "cell_type": "markdown",
   "metadata": {},
   "source": [
    "# Categorical Features"
   ]
  },
  {
   "cell_type": "code",
   "execution_count": null,
   "metadata": {
    "execution": {
     "iopub.execute_input": "2023-07-25T14:15:27.445340Z",
     "iopub.status.busy": "2023-07-25T14:15:27.445004Z",
     "iopub.status.idle": "2023-07-25T14:15:28.715379Z",
     "shell.execute_reply": "2023-07-25T14:15:28.713893Z",
     "shell.execute_reply.started": "2023-07-25T14:15:27.445312Z"
    }
   },
   "outputs": [],
   "source": [
    "fig, axs = plt.subplots(ncols=8, figsize=(20,4))\n",
    "axs = axs.ravel()\n",
    "\n",
    "for i, feature in enumerate(cat_vars):\n",
    "    sns.countplot(data, x=feature, ax=axs[i])\n",
    "\n",
    "plt.tight_layout()"
   ]
  },
  {
   "cell_type": "markdown",
   "metadata": {},
   "source": [
    "# Bivariate"
   ]
  },
  {
   "cell_type": "code",
   "execution_count": null,
   "metadata": {
    "execution": {
     "iopub.execute_input": "2023-07-25T14:15:28.717301Z",
     "iopub.status.busy": "2023-07-25T14:15:28.716948Z",
     "iopub.status.idle": "2023-07-25T14:15:31.305838Z",
     "shell.execute_reply": "2023-07-25T14:15:31.302900Z",
     "shell.execute_reply.started": "2023-07-25T14:15:28.717271Z"
    }
   },
   "outputs": [],
   "source": [
    "fig, axs = plt.subplots(2,5, figsize=(20,8))\n",
    "axs = axs.ravel()\n",
    "\n",
    "for i, feature in enumerate(num_vars):\n",
    "    sns.histplot(data, x=feature, hue=target, ax=axs[i])\n",
    "    sns.violinplot(data, y=feature, x=target, ax=axs[i+5])\n",
    "\n",
    "plt.tight_layout()"
   ]
  },
  {
   "cell_type": "code",
   "execution_count": null,
   "metadata": {
    "execution": {
     "iopub.execute_input": "2023-07-25T14:15:31.308263Z",
     "iopub.status.busy": "2023-07-25T14:15:31.307802Z",
     "iopub.status.idle": "2023-07-25T14:15:33.272326Z",
     "shell.execute_reply": "2023-07-25T14:15:33.271187Z",
     "shell.execute_reply.started": "2023-07-25T14:15:31.308225Z"
    }
   },
   "outputs": [],
   "source": [
    "fig, axs = plt.subplots(ncols=8, figsize=(20,4))\n",
    "axs = axs.ravel()\n",
    "\n",
    "for i, feature in enumerate(cat_vars):\n",
    "    crosstab = pd.crosstab( data[feature], data.output, normalize=True )\n",
    "    sns.heatmap(crosstab, annot=True, cmap='Blues', cbar=False, ax=axs[i])\n",
    "\n",
    "plt.tight_layout()"
   ]
  },
  {
   "cell_type": "markdown",
   "metadata": {},
   "source": [
    "# Correlation"
   ]
  },
  {
   "cell_type": "code",
   "execution_count": null,
   "metadata": {
    "execution": {
     "iopub.execute_input": "2023-07-25T14:15:33.274131Z",
     "iopub.status.busy": "2023-07-25T14:15:33.273389Z",
     "iopub.status.idle": "2023-07-25T14:15:33.295681Z",
     "shell.execute_reply": "2023-07-25T14:15:33.293794Z",
     "shell.execute_reply.started": "2023-07-25T14:15:33.274098Z"
    }
   },
   "outputs": [],
   "source": [
    "from sklearn.preprocessing import OneHotEncoder\n",
    "\n",
    "one_hot = OneHotEncoder(sparse_output=False)\n",
    "\n",
    "cat_encoded = one_hot.fit_transform( data[ cat_vars ] )\n",
    "vars_names = one_hot.get_feature_names_out()\n",
    "\n",
    "data_cat = pd.DataFrame( cat_encoded, columns=vars_names )\n",
    "data_corr = pd.concat( [ data.drop(cat_vars, axis=1).reset_index(drop=True), data_cat ], axis=1 )\n",
    "\n",
    "# ---------------------------------------------------------------------------------------------\n",
    "\n",
    "vars_corr = data_corr.drop( target, axis=1 ).corr()\n",
    "target_corr = data_corr.corr()[ target ].drop(target, axis=0).sort_values(ascending=False)"
   ]
  },
  {
   "cell_type": "code",
   "execution_count": null,
   "metadata": {
    "execution": {
     "iopub.execute_input": "2023-07-25T14:15:33.297176Z",
     "iopub.status.busy": "2023-07-25T14:15:33.296886Z",
     "iopub.status.idle": "2023-07-25T14:15:35.560054Z",
     "shell.execute_reply": "2023-07-25T14:15:35.558276Z",
     "shell.execute_reply.started": "2023-07-25T14:15:33.297144Z"
    }
   },
   "outputs": [],
   "source": [
    "fig, axs = plt.subplots(ncols=3, figsize=(20,6))\n",
    "\n",
    "sns.heatmap( vars_corr, cmap='Blues', ax=axs[0] )\n",
    "axs[0].set_title( 'Correlation Matrix' )\n",
    "\n",
    "sns.heatmap( vars_corr, cmap='Blues', mask=vars_corr < 0.8, annot=True, ax=axs[1], vmin=0 )\n",
    "axs[1].set_title( 'Correlation Matrix With Mask < 0.8' )\n",
    "\n",
    "sns.heatmap( pd.DataFrame(target_corr), cmap='Blues', annot=True, vmin=0, ax=axs[2] )\n",
    "axs[2].set_title( 'Target Correlation' )\n",
    "\n",
    "plt.tight_layout()"
   ]
  },
  {
   "cell_type": "markdown",
   "metadata": {},
   "source": [
    "# Modeling"
   ]
  },
  {
   "cell_type": "code",
   "execution_count": null,
   "metadata": {
    "execution": {
     "iopub.execute_input": "2023-07-25T14:15:35.561937Z",
     "iopub.status.busy": "2023-07-25T14:15:35.561607Z",
     "iopub.status.idle": "2023-07-25T14:15:35.578871Z",
     "shell.execute_reply": "2023-07-25T14:15:35.576968Z",
     "shell.execute_reply.started": "2023-07-25T14:15:35.561907Z"
    }
   },
   "outputs": [],
   "source": [
    "X = data.drop(target, axis=1)\n",
    "y = data[target]\n",
    "\n",
    "X_train, X_test, y_train, y_test = train_test_split( X, y, test_size=0.25 )\n",
    "print('X size: ', X.shape[0])\n",
    "print('Train size: ', X_train.shape[0])\n",
    "print('Test size: ', X_test.shape[0])"
   ]
  },
  {
   "cell_type": "code",
   "execution_count": null,
   "metadata": {
    "execution": {
     "iopub.execute_input": "2023-07-25T14:15:35.580647Z",
     "iopub.status.busy": "2023-07-25T14:15:35.580323Z",
     "iopub.status.idle": "2023-07-25T14:15:35.594232Z",
     "shell.execute_reply": "2023-07-25T14:15:35.592472Z",
     "shell.execute_reply.started": "2023-07-25T14:15:35.580620Z"
    }
   },
   "outputs": [],
   "source": [
    "from sklearn.preprocessing import StandardScaler\n",
    "from sklearn.compose import ColumnTransformer\n",
    "from sklearn.pipeline import make_pipeline\n",
    "from sklearn.tree import DecisionTreeClassifier, plot_tree\n",
    "from sklearn.metrics import classification_report"
   ]
  },
  {
   "cell_type": "code",
   "execution_count": null,
   "metadata": {
    "execution": {
     "iopub.execute_input": "2023-07-25T14:15:35.596061Z",
     "iopub.status.busy": "2023-07-25T14:15:35.595657Z",
     "iopub.status.idle": "2023-07-25T14:15:35.636095Z",
     "shell.execute_reply": "2023-07-25T14:15:35.633673Z",
     "shell.execute_reply.started": "2023-07-25T14:15:35.596025Z"
    }
   },
   "outputs": [],
   "source": [
    "ct = ColumnTransformer(\n",
    "    [(\"cat\", OneHotEncoder(), cat_vars),\n",
    "    (\"num\", StandardScaler(), num_vars)])\n",
    "\n",
    "model = make_pipeline( ct, DecisionTreeClassifier() )\n",
    "\n",
    "model"
   ]
  },
  {
   "cell_type": "code",
   "execution_count": null,
   "metadata": {
    "execution": {
     "iopub.execute_input": "2023-07-25T14:15:35.638703Z",
     "iopub.status.busy": "2023-07-25T14:15:35.638215Z",
     "iopub.status.idle": "2023-07-25T14:15:35.678183Z",
     "shell.execute_reply": "2023-07-25T14:15:35.676714Z",
     "shell.execute_reply.started": "2023-07-25T14:15:35.638667Z"
    }
   },
   "outputs": [],
   "source": [
    "model.fit( X_train, y_train )\n",
    "y_pred = model.predict( X_test )\n",
    "\n",
    "print( classification_report( y_test, y_pred ) )"
   ]
  },
  {
   "cell_type": "code",
   "execution_count": null,
   "metadata": {
    "execution": {
     "iopub.execute_input": "2023-07-25T14:15:35.680346Z",
     "iopub.status.busy": "2023-07-25T14:15:35.679568Z",
     "iopub.status.idle": "2023-07-25T14:15:38.944360Z",
     "shell.execute_reply": "2023-07-25T14:15:38.942537Z",
     "shell.execute_reply.started": "2023-07-25T14:15:35.680317Z"
    }
   },
   "outputs": [],
   "source": [
    "tree_classifier = model.named_steps['decisiontreeclassifier']\n",
    "\n",
    "feature_names = ct.get_feature_names_out()\n",
    "\n",
    "plt.figure(figsize=(35, 8))\n",
    "plot_tree(tree_classifier, feature_names=feature_names, filled=True, rounded=True, fontsize=6)\n",
    "\n",
    "plt.tight_layout()"
   ]
  },
  {
   "cell_type": "code",
   "execution_count": null,
   "metadata": {
    "execution": {
     "iopub.execute_input": "2023-07-25T14:15:38.946489Z",
     "iopub.status.busy": "2023-07-25T14:15:38.946089Z",
     "iopub.status.idle": "2023-07-25T14:15:38.954656Z",
     "shell.execute_reply": "2023-07-25T14:15:38.953274Z",
     "shell.execute_reply.started": "2023-07-25T14:15:38.946454Z"
    }
   },
   "outputs": [],
   "source": [
    "from sklearn.ensemble import RandomForestClassifier, GradientBoostingClassifier\n",
    "from xgboost import XGBClassifier\n",
    "from sklearn.tree import DecisionTreeClassifier, plot_tree\n",
    "from sklearn.neighbors import KNeighborsClassifier\n",
    "from sklearn.naive_bayes import GaussianNB\n",
    "from lightgbm import LGBMClassifier\n",
    "from catboost import CatBoostClassifier\n",
    "from sklearn.linear_model import LogisticRegression"
   ]
  },
  {
   "cell_type": "code",
   "execution_count": null,
   "metadata": {
    "execution": {
     "iopub.execute_input": "2023-07-25T14:15:38.956472Z",
     "iopub.status.busy": "2023-07-25T14:15:38.956129Z",
     "iopub.status.idle": "2023-07-25T14:15:38.972924Z",
     "shell.execute_reply": "2023-07-25T14:15:38.971430Z",
     "shell.execute_reply.started": "2023-07-25T14:15:38.956443Z"
    }
   },
   "outputs": [],
   "source": [
    "algorithms = {\n",
    "    'Logistic Regression': LogisticRegression(),\n",
    "    'Decision Tree': DecisionTreeClassifier(),\n",
    "    'Naive Bayes': GaussianNB(),\n",
    "    'KNN': KNeighborsClassifier(),\n",
    "    'Random Forest': RandomForestClassifier(),\n",
    "    'GBC' : GradientBoostingClassifier(),\n",
    "    'XGB': XGBClassifier(),\n",
    "    'LGBM': LGBMClassifier(),\n",
    "    'Cat': CatBoostClassifier(verbose=False)\n",
    "}"
   ]
  },
  {
   "cell_type": "code",
   "execution_count": null,
   "metadata": {
    "execution": {
     "iopub.execute_input": "2023-07-25T14:18:22.122189Z",
     "iopub.status.busy": "2023-07-25T14:18:22.121720Z",
     "iopub.status.idle": "2023-07-25T14:18:24.434954Z",
     "shell.execute_reply": "2023-07-25T14:18:24.433279Z",
     "shell.execute_reply.started": "2023-07-25T14:18:22.122150Z"
    }
   },
   "outputs": [],
   "source": [
    "\n",
    "results = []\n",
    "accuracys = []\n",
    "\n",
    "for key, algorithm in algorithms.items():\n",
    "    \n",
    "    model = make_pipeline( ct, algorithm )\n",
    "    model.fit( X_train, y_train )\n",
    "    \n",
    "    y_pred = model.predict( X_test )\n",
    "    report = classification_report( y_test, y_pred, output_dict=True )\n",
    "    \n",
    "    # Reporting\n",
    "    bar = '___' * 20\n",
    "    formated_report = round(pd.DataFrame( report ).drop('accuracy', axis=1).transpose(), 4)\n",
    "    accuracy = round(report['accuracy'], 4)\n",
    "    score = f'{bar}\\n\\n{key}\\nAccuracy: {accuracy}\\n{bar}\\n{formated_report}\\n{bar}\\n'\n",
    "    results.append( score )\n",
    "    accuracys.append( accuracy )\n",
    "    print( score )"
   ]
  },
  {
   "cell_type": "code",
   "execution_count": null,
   "metadata": {
    "execution": {
     "iopub.execute_input": "2023-07-25T14:18:24.437143Z",
     "iopub.status.busy": "2023-07-25T14:18:24.436810Z",
     "iopub.status.idle": "2023-07-25T14:18:24.454957Z",
     "shell.execute_reply": "2023-07-25T14:18:24.452929Z",
     "shell.execute_reply.started": "2023-07-25T14:18:24.437110Z"
    }
   },
   "outputs": [],
   "source": [
    "accuracy_results = pd.DataFrame( zip(algorithms.keys(), accuracys), columns=[ 'Algorithm', 'Accuracy' ] ).sort_values(ascending=False, by='Accuracy').set_index('Algorithm')\n",
    "\n",
    "accuracy_results"
   ]
  },
  {
   "cell_type": "code",
   "execution_count": null,
   "metadata": {
    "execution": {
     "iopub.execute_input": "2023-07-25T14:18:32.089448Z",
     "iopub.status.busy": "2023-07-25T14:18:32.089124Z",
     "iopub.status.idle": "2023-07-25T14:18:32.342025Z",
     "shell.execute_reply": "2023-07-25T14:18:32.338420Z",
     "shell.execute_reply.started": "2023-07-25T14:18:32.089425Z"
    }
   },
   "outputs": [],
   "source": [
    "accuracy_results.plot( figsize=(16,4), marker='o' )"
   ]
  },
  {
   "cell_type": "markdown",
   "metadata": {},
   "source": [
    "# Hyperparameter Tunning"
   ]
  },
  {
   "cell_type": "code",
   "execution_count": null,
   "metadata": {
    "execution": {
     "iopub.execute_input": "2023-07-25T14:47:55.400862Z",
     "iopub.status.busy": "2023-07-25T14:47:55.400492Z",
     "iopub.status.idle": "2023-07-25T14:47:55.408903Z",
     "shell.execute_reply": "2023-07-25T14:47:55.406829Z",
     "shell.execute_reply.started": "2023-07-25T14:47:55.400835Z"
    }
   },
   "outputs": [],
   "source": [
    "from sklearn.model_selection import GridSearchCV\n",
    "\n",
    "def hiperparameter( algorithm, param_grid ):\n",
    "    rkf = RepeatedKFold(n_splits=2, n_repeats=3)\n",
    "    grid_search = GridSearchCV(algorithm, param_grid, cv=rkf, scoring='accuracy')\n",
    "    model = make_pipeline( ct, grid_search)\n",
    "\n",
    "    model.fit(X_train, y_train)\n",
    "\n",
    "    print(\"Best Params\")\n",
    "    print(grid_search.best_params_)\n",
    "\n",
    "    best_model = grid_search.best_estimator_\n",
    "    accuracy = make_pipeline( ct, best_model ).score(X_test, y_test)\n",
    "    print(\"Best Accuracy {:.4f}\".format(accuracy))"
   ]
  },
  {
   "cell_type": "code",
   "execution_count": null,
   "metadata": {
    "execution": {
     "iopub.execute_input": "2023-07-25T14:47:56.025625Z",
     "iopub.status.busy": "2023-07-25T14:47:56.025224Z",
     "iopub.status.idle": "2023-07-25T14:50:46.570495Z",
     "shell.execute_reply": "2023-07-25T14:50:46.568821Z",
     "shell.execute_reply.started": "2023-07-25T14:47:56.025595Z"
    }
   },
   "outputs": [],
   "source": [
    "param_grid = {\n",
    "    'n_estimators': [50, 100, 200],\n",
    "    'criterion': ['gini', 'entropy'],\n",
    "    'max_depth': [None, 10, 20], \n",
    "    'min_samples_split': [2, 5, 10],\n",
    "    'min_samples_leaf': [1, 2, 4]\n",
    "}\n",
    "\n",
    "hiperparameter( RandomForestClassifier(), param_grid )"
   ]
  },
  {
   "cell_type": "code",
   "execution_count": null,
   "metadata": {
    "execution": {
     "iopub.execute_input": "2023-07-25T14:56:51.373352Z",
     "iopub.status.busy": "2023-07-25T14:56:51.372942Z",
     "iopub.status.idle": "2023-07-25T14:56:52.684595Z",
     "shell.execute_reply": "2023-07-25T14:56:52.682892Z",
     "shell.execute_reply.started": "2023-07-25T14:56:51.373318Z"
    }
   },
   "outputs": [],
   "source": [
    "param_grid = {\n",
    "    'penalty': ['l1', 'l2'],\n",
    "    'C': [0.1, 1.0, 10.0],\n",
    "    'solver': ['liblinear', 'lbfgs', 'saga', 'elasticnet']\n",
    "}\n",
    "hiperparameter( LogisticRegression(max_iter=10000), param_grid )"
   ]
  },
  {
   "cell_type": "markdown",
   "metadata": {},
   "source": [
    "# Best Choice is Logistic Regression\n",
    "# Score Best Accuracy 0.8553"
   ]
  }
 ],
 "metadata": {
  "kernelspec": {
   "display_name": "Python 3",
   "language": "python",
   "name": "python3"
  },
  "language_info": {
   "codemirror_mode": {
    "name": "ipython",
    "version": 3
   },
   "file_extension": ".py",
   "mimetype": "text/x-python",
   "name": "python",
   "nbconvert_exporter": "python",
   "pygments_lexer": "ipython3",
   "version": "3.6.4"
  }
 },
 "nbformat": 4,
 "nbformat_minor": 4
}
